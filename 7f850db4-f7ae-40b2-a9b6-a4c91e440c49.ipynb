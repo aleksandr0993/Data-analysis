{
 "cells": [
  {
   "cell_type": "code",
   "execution_count": 1,
   "metadata": {},
   "outputs": [],
   "source": [
    "import pandas as pd\n",
    "from sklearn.model_selection import train_test_split\n",
    "from sklearn.metrics import mean_squared_error\n",
    "from sklearn.metrics import accuracy_score\n",
    "import warnings\n",
    "warnings.simplefilter(\"ignore\")\n",
    "import joblib\n",
    "from joblib import dump"
   ]
  },
  {
   "cell_type": "markdown",
   "metadata": {},
   "source": [
    "Привет, меня зовут Артем Хуршудов. Сегодня я проверю твой проект.\n",
    "<br> Дальнейшее общение будет происходить на \"ты\" если это не вызывает никаких проблем.\n",
    "<br> Желательно реагировать на каждый мой комментарий ('исправил', 'не понятно как исправить ошибку', ...)\n",
    "<br> Пожалуйста, не удаляй комментарии ревьюера, так как они повышают качество повторного ревью.\n",
    "\n",
    "Комментарии будут в <font color='green'>зеленой</font>, <font color='blue'>синей</font> или <font color='red'>красной</font> рамках:\n",
    "\n",
    "<div class=\"alert alert-block alert-success\">\n",
    "<b>Успех:</b> Если все сделано отлично\n",
    "</div>\n",
    "\n",
    "<div class=\"alert alert-block alert-info\">\n",
    "<b>Совет: </b> Если можно немного улучшить\n",
    "</div>\n",
    "\n",
    "<div class=\"alert alert-block alert-danger\">\n",
    "<b>Ошибка:</b> Если требуются исправления. Работа не может быть принята с красными комментариями.\n",
    "</div>\n",
    "\n",
    "-------------------\n",
    "\n",
    "Будет очень хорошо, если ты будешь помечать свои действия следующим образом:\n",
    "<div class=\"alert alert-block alert-warning\">\n",
    "<b>Комментарий студента:</b> ...\n",
    "</div>\n",
    "\n",
    "<div class=\"alert alert-block alert-warning\">\n",
    "<b>Изменения:</b> Были внесены следующие изменения ...\n",
    "</div>\n",
    "\n",
    "### <font color='orange'>Общее впечатление</font>\n",
    "* Большое спасибо за проделанную работу. Видно, что приложено много усилий.\n",
    "* Отлично, что правильно использованы train/valid/test наборы.\n",
    "* Выводы и рассуждения получились содержательными, их было интересно читать.\n",
    "* Тебе удалось добиться очень хорошего качества, поздравляю!\n",
    "* Над этим проектом нужно будет еще немного поработать. Однако, изменения не должны занять много времени.\n",
    "* В работе я оставил несколько советов. Буду рад, если ты учтешь их.\n",
    "* С радостью отвечу на твои вопросы, если они есть. Лучше всего их собрать в следующей ячейке. Жду новую версию проекта."
   ]
  },
  {
   "cell_type": "markdown",
   "metadata": {},
   "source": [
    "### <font color='orange'>Общее впечатление (ревью 2)</font>\n",
    "* После исправлений проект улучшился и теперь он может быть зачтен.\n",
    "* Для удобства все новые комментарии обозначены фразой \"ревью 2\".\n",
    "* Удачи в дальнейшем обучении и следующих работах!"
   ]
  },
  {
   "cell_type": "markdown",
   "metadata": {},
   "source": [
    "<div class=\"alert alert-block alert-warning\">\n",
    "<b>Комментарий студента:</b> подскажи пожалуйста, корректно ли пытаться применять модели регрессии к данной задаче по классификации? \n",
    "</div>"
   ]
  },
  {
   "cell_type": "markdown",
   "metadata": {},
   "source": [
    "<div class=\"alert alert-block alert-info\">\n",
    "<b>Совет (ревью 2): </b> Нет. Модели регрессии возвращают не целое число от 0 до 1, ты просто не сможешь измерить метрику. Если ты по какому-то порогу приведешь к целым числам, то качество, скорее всего, будет хуже.\n",
    "</div>"
   ]
  },
  {
   "cell_type": "markdown",
   "metadata": {},
   "source": [
    "<div class=\"alert alert-block alert-warning\">\n",
    "<b>Комментарий студента:</b> подскажи пожалуйста, от чего зависит переобучение мдели в большей степени (параметры, гиперпараметры и т.д.)?\n",
    "</div>"
   ]
  },
  {
   "cell_type": "markdown",
   "metadata": {},
   "source": [
    "<div class=\"alert alert-block alert-info\">\n",
    "<b>Совет (ревью 2): </b> От сложности модели, выборки, диапазона параметров, устройства самой модели. В целом переобучением называют очень много разных явлений, но в одном предложении – это излишняя подгонка под определнный набор данных. Именно поэтому мы выделаем тест и не трогаем его до самого конца.\n",
    "</div>"
   ]
  },
  {
   "cell_type": "markdown",
   "metadata": {},
   "source": [
    "<div class=\"alert alert-block alert-warning\">\n",
    "<b>Комментарий студента:</b> подскажи пожалуйста, из каких соображений выбираются модели для первичного исследования из всего возможного списка? Есть ли смысл прогонять все модели по порядку и каким гиперпараметрам следует уделять больше внимания?\n",
    "</div>"
   ]
  },
  {
   "cell_type": "markdown",
   "metadata": {},
   "source": [
    "<div class=\"alert alert-block alert-info\">\n",
    "<b>Совет (ревью 2): </b> Первое время есть смысл прогонять все. С опытом ты будешь догадываться (с какой-то вероятность, то есть не во всех случаях), какая лучше.\n",
    "</div>"
   ]
  },
  {
   "cell_type": "markdown",
   "metadata": {},
   "source": [
    "# Рекомендация тарифов"
   ]
  },
  {
   "cell_type": "markdown",
   "metadata": {},
   "source": [
    "В вашем распоряжении данные о поведении клиентов, которые уже перешли на эти тарифы (из проекта курса «Статистический анализ данных»). Нужно построить модель для задачи классификации, которая выберет подходящий тариф. Предобработка данных не понадобится — вы её уже сделали.\n",
    "\n",
    "Постройте модель с максимально большим значением *accuracy*. Чтобы сдать проект успешно, нужно довести долю правильных ответов по крайней мере до 0.75. Проверьте *accuracy* на тестовой выборке самостоятельно."
   ]
  },
  {
   "cell_type": "markdown",
   "metadata": {},
   "source": [
    "# Содержание:\n",
    "###    1. Откроем и изучим файл\n",
    "###    2. Разобьем данные на выборки\n",
    "###    3. Исследуем модели\n",
    "####    3.1 Decision Tree Classifier\n",
    "####    3.2 Key Nearest Neighbours\n",
    "####    3.3 Logistic Regression\n",
    "###    4. Проверим модели на тестовой выборке\n",
    "###    5. Проверим модели на адекватность"
   ]
  },
  {
   "cell_type": "markdown",
   "metadata": {},
   "source": [
    "#### 0. Импортируем необходимые библиотеки и модули:"
   ]
  },
  {
   "cell_type": "markdown",
   "metadata": {},
   "source": [
    "<div class=\"alert alert-block alert-info\">\n",
    "<b>Совет: </b> Желательно чтобы все импорты были собраны в первой ячейке ноутбука! Если у того, кто будет запускать твой ноутбук будут отсутствовать некоторые библиотеки, то он это увидит сразу, а не в процессе!\n",
    "</div>"
   ]
  },
  {
   "cell_type": "markdown",
   "metadata": {},
   "source": [
    "## 1. Откроем и изучим файл"
   ]
  },
  {
   "cell_type": "markdown",
   "metadata": {},
   "source": [
    "Выведем первые 5 строк датасета и узнаем его размер:"
   ]
  },
  {
   "cell_type": "code",
   "execution_count": 2,
   "metadata": {
    "scrolled": true
   },
   "outputs": [
    {
     "data": {
      "text/html": [
       "<div>\n",
       "<style scoped>\n",
       "    .dataframe tbody tr th:only-of-type {\n",
       "        vertical-align: middle;\n",
       "    }\n",
       "\n",
       "    .dataframe tbody tr th {\n",
       "        vertical-align: top;\n",
       "    }\n",
       "\n",
       "    .dataframe thead th {\n",
       "        text-align: right;\n",
       "    }\n",
       "</style>\n",
       "<table border=\"1\" class=\"dataframe\">\n",
       "  <thead>\n",
       "    <tr style=\"text-align: right;\">\n",
       "      <th></th>\n",
       "      <th>calls</th>\n",
       "      <th>minutes</th>\n",
       "      <th>messages</th>\n",
       "      <th>mb_used</th>\n",
       "      <th>is_ultra</th>\n",
       "    </tr>\n",
       "  </thead>\n",
       "  <tbody>\n",
       "    <tr>\n",
       "      <td>0</td>\n",
       "      <td>40.0</td>\n",
       "      <td>311.90</td>\n",
       "      <td>83.0</td>\n",
       "      <td>19915.42</td>\n",
       "      <td>0</td>\n",
       "    </tr>\n",
       "    <tr>\n",
       "      <td>1</td>\n",
       "      <td>85.0</td>\n",
       "      <td>516.75</td>\n",
       "      <td>56.0</td>\n",
       "      <td>22696.96</td>\n",
       "      <td>0</td>\n",
       "    </tr>\n",
       "    <tr>\n",
       "      <td>2</td>\n",
       "      <td>77.0</td>\n",
       "      <td>467.66</td>\n",
       "      <td>86.0</td>\n",
       "      <td>21060.45</td>\n",
       "      <td>0</td>\n",
       "    </tr>\n",
       "    <tr>\n",
       "      <td>3</td>\n",
       "      <td>106.0</td>\n",
       "      <td>745.53</td>\n",
       "      <td>81.0</td>\n",
       "      <td>8437.39</td>\n",
       "      <td>1</td>\n",
       "    </tr>\n",
       "    <tr>\n",
       "      <td>4</td>\n",
       "      <td>66.0</td>\n",
       "      <td>418.74</td>\n",
       "      <td>1.0</td>\n",
       "      <td>14502.75</td>\n",
       "      <td>0</td>\n",
       "    </tr>\n",
       "  </tbody>\n",
       "</table>\n",
       "</div>"
      ],
      "text/plain": [
       "   calls  minutes  messages   mb_used  is_ultra\n",
       "0   40.0   311.90      83.0  19915.42         0\n",
       "1   85.0   516.75      56.0  22696.96         0\n",
       "2   77.0   467.66      86.0  21060.45         0\n",
       "3  106.0   745.53      81.0   8437.39         1\n",
       "4   66.0   418.74       1.0  14502.75         0"
      ]
     },
     "execution_count": 2,
     "metadata": {},
     "output_type": "execute_result"
    }
   ],
   "source": [
    "df = pd.read_csv('/datasets/users_behavior.csv')\n",
    "df.head()"
   ]
  },
  {
   "cell_type": "markdown",
   "metadata": {},
   "source": [
    "#### Описание данных:\n",
    "сalls — количество звонков,\\\n",
    "minutes — суммарная длительность звонков в минутах,\\\n",
    "messages — количество sms-сообщений,\\\n",
    "mb_used — израсходованный интернет-трафик в Мб,\\\n",
    "is_ultra — каким тарифом пользовался в течение месяца («Ультра» — 1, «Смарт» — 0)."
   ]
  },
  {
   "cell_type": "markdown",
   "metadata": {},
   "source": [
    "Посмотрим на количество и типы данных по признакам:"
   ]
  },
  {
   "cell_type": "code",
   "execution_count": 3,
   "metadata": {},
   "outputs": [
    {
     "name": "stdout",
     "output_type": "stream",
     "text": [
      "<class 'pandas.core.frame.DataFrame'>\n",
      "RangeIndex: 3214 entries, 0 to 3213\n",
      "Data columns (total 5 columns):\n",
      "calls       3214 non-null float64\n",
      "minutes     3214 non-null float64\n",
      "messages    3214 non-null float64\n",
      "mb_used     3214 non-null float64\n",
      "is_ultra    3214 non-null int64\n",
      "dtypes: float64(4), int64(1)\n",
      "memory usage: 125.7 KB\n"
     ]
    }
   ],
   "source": [
    "df.info()"
   ]
  },
  {
   "cell_type": "markdown",
   "metadata": {},
   "source": [
    "#### Вывод\n",
    "Мы имеее дело с датафреймом, в котором всего 5 признаков, они все имеют численный тип. Пропуски отсутствуют, можно приступать к разбивке датафрейма на выборки и отделение целевого признака."
   ]
  },
  {
   "cell_type": "markdown",
   "metadata": {},
   "source": [
    "<div class=\"alert alert-block alert-success\">\n",
    "<b>Успех:</b> Данные загружены корректно, первичный осмотр проведен.\n",
    "</div>"
   ]
  },
  {
   "cell_type": "markdown",
   "metadata": {},
   "source": [
    "## 2. Разобьем данные на выборки"
   ]
  },
  {
   "cell_type": "markdown",
   "metadata": {},
   "source": [
    "Отделим все остальные признаки от целевого:"
   ]
  },
  {
   "cell_type": "code",
   "execution_count": 4,
   "metadata": {},
   "outputs": [],
   "source": [
    "features = df.drop(['is_ultra'], axis=1)\n",
    "target = df['is_ultra']"
   ]
  },
  {
   "cell_type": "markdown",
   "metadata": {},
   "source": [
    "Разбивку полученных данных на выборки (3:1:1) проведем вызвав дважды метод train_test_split : сначала на обучающую и валидационную, затем еще на тестовую"
   ]
  },
  {
   "cell_type": "code",
   "execution_count": 5,
   "metadata": {},
   "outputs": [],
   "source": [
    "features_train, features_valid, target_train, target_valid = train_test_split(features, target, test_size=0.4)\n",
    "features_valid, features_test, target_valid, target_test = train_test_split(features_valid, target_valid, test_size=0.5)"
   ]
  },
  {
   "cell_type": "markdown",
   "metadata": {},
   "source": [
    "Выведем размеры полученных наборов, в качестве проверки на корректность разбиения:"
   ]
  },
  {
   "cell_type": "code",
   "execution_count": 6,
   "metadata": {},
   "outputs": [
    {
     "data": {
      "text/plain": [
       "((1928, 4), (643, 4), (643, 4))"
      ]
     },
     "execution_count": 6,
     "metadata": {},
     "output_type": "execute_result"
    }
   ],
   "source": [
    "features_train.shape, features_valid.shape, features_test.shape"
   ]
  },
  {
   "cell_type": "code",
   "execution_count": 7,
   "metadata": {},
   "outputs": [
    {
     "data": {
      "text/plain": [
       "((1928,), (643,), (643,))"
      ]
     },
     "execution_count": 7,
     "metadata": {},
     "output_type": "execute_result"
    }
   ],
   "source": [
    "target_train.shape, target_valid.shape, target_test.shape"
   ]
  },
  {
   "cell_type": "markdown",
   "metadata": {},
   "source": [
    "<div class=\"alert alert-block alert-danger\">\n",
    "<b>Ошибка:</b> В каком соотношении ты хотел разбить данные? А в каком получилось? Напечатай размеры полученных наборов и проверь.\n",
    "    \n",
    "Необходимо разбить выборку в соотношении 3:1:1.\n",
    "</div>"
   ]
  },
  {
   "cell_type": "markdown",
   "metadata": {},
   "source": [
    "<div class=\"alert alert-block alert-warning\">\n",
    "<b>Комментарий студента:</b> исправил.\n",
    "</div>"
   ]
  },
  {
   "cell_type": "markdown",
   "metadata": {},
   "source": [
    "<div class=\"alert alert-block alert-success\">\n",
    "<b>Успех (ревью 2):</b> Теперь все верно, молодец!\n",
    "</div>"
   ]
  },
  {
   "cell_type": "markdown",
   "metadata": {},
   "source": [
    "## 3. Исследуем модели"
   ]
  },
  {
   "cell_type": "markdown",
   "metadata": {},
   "source": [
    "Для исследования выбраны наиболее распрастраненные модели классификации, т.к. наша задача  - предсказать категориальный признак - тариф оператора связи."
   ]
  },
  {
   "cell_type": "markdown",
   "metadata": {},
   "source": [
    "### 3.1 Decision Tree Classifier"
   ]
  },
  {
   "cell_type": "code",
   "execution_count": 8,
   "metadata": {},
   "outputs": [
    {
     "data": {
      "text/plain": [
       "0.7091757387247278"
      ]
     },
     "execution_count": 8,
     "metadata": {},
     "output_type": "execute_result"
    }
   ],
   "source": [
    "# hyperparemeters - defolt\n",
    "from sklearn.tree import DecisionTreeClassifier\n",
    "model = DecisionTreeClassifier(random_state=12345)\n",
    "model.fit(features_train, target_train)\n",
    "model.score(features_valid, target_valid)\n"
   ]
  },
  {
   "cell_type": "markdown",
   "metadata": {},
   "source": [
    "С помощью перебора, подберем наилучшие параметры модели:"
   ]
  },
  {
   "cell_type": "code",
   "execution_count": 9,
   "metadata": {},
   "outputs": [
    {
     "name": "stdout",
     "output_type": "stream",
     "text": [
      "0.8102643856920684 (8, 4, 1)\n",
      "CPU times: user 4.66 s, sys: 0 ns, total: 4.66 s\n",
      "Wall time: 4.78 s\n"
     ]
    }
   ],
   "source": [
    "%%time\n",
    "from sklearn.tree import DecisionTreeClassifier\n",
    "from sklearn.metrics import mean_squared_error\n",
    "best_score = 0\n",
    "for max_depth in range(1, 20, 1):\n",
    "    for min_samples_split in range(2, 20, 2):\n",
    "        for max_features in range(1, 5, 1):\n",
    "            model = DecisionTreeClassifier(random_state=12345, criterion='gini',  max_depth=max_depth, min_samples_split=min_samples_split,\n",
    "                                          max_features=max_features)\n",
    "            model.fit(features_train, target_train)\n",
    "            score = model.score(features_valid, target_valid)\n",
    "            if score > best_score:\n",
    "                best_score = score\n",
    "                best_params = (max_depth, min_samples_split, max_features)\n",
    "                best_model_DTC = model\n",
    "print(best_score, best_params)"
   ]
  },
  {
   "cell_type": "markdown",
   "metadata": {},
   "source": [
    "<div class=\"alert alert-block alert-success\">\n",
    "    <b>Успех:</b> Подбор параметров был реализован верно, молодец!\n",
    "</div>"
   ]
  },
  {
   "cell_type": "code",
   "execution_count": 10,
   "metadata": {},
   "outputs": [
    {
     "data": {
      "text/plain": [
       "['best_model_DTC.joblib']"
      ]
     },
     "execution_count": 10,
     "metadata": {},
     "output_type": "execute_result"
    }
   ],
   "source": [
    "# Сохранение обученной модели\n",
    "# первый аргумент - модель\n",
    "# второй аргумент - путь к файлу\n",
    "joblib.dump(best_model_DTC, 'best_model_DTC.joblib')"
   ]
  },
  {
   "cell_type": "markdown",
   "metadata": {},
   "source": [
    "### 3.2 Key Nearest Neighbours"
   ]
  },
  {
   "cell_type": "code",
   "execution_count": 11,
   "metadata": {},
   "outputs": [
    {
     "data": {
      "text/plain": [
       "0.7387247278382582"
      ]
     },
     "execution_count": 11,
     "metadata": {},
     "output_type": "execute_result"
    }
   ],
   "source": [
    "# hyperparemeters - defolt\n",
    "from sklearn.neighbors import KNeighborsClassifier\n",
    "model = KNeighborsClassifier()\n",
    "model.fit(features_train, target_train)\n",
    "model.score(features_valid, target_valid)"
   ]
  },
  {
   "cell_type": "markdown",
   "metadata": {},
   "source": [
    "С помощью перебора, подберем наилучшие параметры модели:"
   ]
  },
  {
   "cell_type": "code",
   "execution_count": 12,
   "metadata": {},
   "outputs": [
    {
     "name": "stdout",
     "output_type": "stream",
     "text": [
      "0.7729393468118196 (15, 'ball_tree', 'manhattan')\n",
      "CPU times: user 5.34 s, sys: 1.06 s, total: 6.4 s\n",
      "Wall time: 6.7 s\n"
     ]
    }
   ],
   "source": [
    "%%time\n",
    "best_score = 0\n",
    "for n_neighbors in range(1, 20, 2):\n",
    "    for algorithm in {'auto', 'ball_tree', 'kd_tree', 'brute'}:\n",
    "        for metric in {'euclidean', 'manhattan', 'chebyshev'}:\n",
    "            model = KNeighborsClassifier(n_neighbors=n_neighbors, algorithm=algorithm, metric=metric)\n",
    "            model.fit(features_train, target_train)\n",
    "            score = model.score(features_valid, target_valid)\n",
    "            if score > best_score:\n",
    "                best_score = score\n",
    "                best_params = (n_neighbors, algorithm, metric)\n",
    "                best_model_KNN = model\n",
    "joblib.dump(best_model_KNN, 'best_model_KNN.joblib')\n",
    "print(best_score, best_params)"
   ]
  },
  {
   "cell_type": "markdown",
   "metadata": {},
   "source": [
    "### 3.3 Logistic Regression"
   ]
  },
  {
   "cell_type": "code",
   "execution_count": 13,
   "metadata": {},
   "outputs": [
    {
     "data": {
      "text/plain": [
       "0.702954898911353"
      ]
     },
     "execution_count": 13,
     "metadata": {},
     "output_type": "execute_result"
    }
   ],
   "source": [
    "# hyperparemeters - defolt\n",
    "from sklearn.linear_model import LogisticRegression\n",
    "model = LogisticRegression(random_state=12345)\n",
    "model.fit(features_train, target_train)\n",
    "model.score(features_valid, target_valid)"
   ]
  },
  {
   "cell_type": "markdown",
   "metadata": {},
   "source": [
    "С помощью перебора, подберем наилучшие параметры модели:"
   ]
  },
  {
   "cell_type": "code",
   "execution_count": 14,
   "metadata": {},
   "outputs": [
    {
     "name": "stdout",
     "output_type": "stream",
     "text": [
      "0.7433903576982893 ('liblinear', 'auto', 'l1', 0.001, 50, False)\n",
      "CPU times: user 58.5 s, sys: 0 ns, total: 58.5 s\n",
      "Wall time: 1min\n"
     ]
    }
   ],
   "source": [
    "%%time\n",
    "best_score = 0\n",
    "for solver in {'newton-cg', 'lbfgs', 'liblinear', 'sag', 'saga'}: \n",
    "    for multi_class in {'auto', 'ovr', 'multinomial'}:\n",
    "        for penalty in {'l1', 'l2', 'elasticnet', 'none'}:\n",
    "            for tol in [1e-4, 5e-4, 1e-3, 1e-5]:\n",
    "                for max_iter in [50, 100, 500]:\n",
    "                    for warm_start in [True, False]:\n",
    "                        try:\n",
    "                            model = LogisticRegression(penalty=penalty, multi_class=multi_class, solver=solver,\n",
    "                                                       tol=tol, max_iter=max_iter,warm_start=warm_start)\n",
    "                            model.fit(features_train, target_train)\n",
    "                            score = model.score(features_valid, target_valid)\n",
    "                            if score > best_score:\n",
    "                                best_score = score\n",
    "                                best_params = (solver, multi_class, penalty, tol, max_iter, warm_start)\n",
    "                                best_model_LogReg = model             \n",
    "                        except:\n",
    "                            None\n",
    "joblib.dump(best_model_LogReg, 'best_model_LogReg.joblib')\n",
    "print(best_score, best_params)"
   ]
  },
  {
   "cell_type": "markdown",
   "metadata": {},
   "source": [
    "### 3.4 Random Forest"
   ]
  },
  {
   "cell_type": "code",
   "execution_count": 15,
   "metadata": {},
   "outputs": [
    {
     "name": "stdout",
     "output_type": "stream",
     "text": [
      "0.7838258164852255\n"
     ]
    }
   ],
   "source": [
    "# hyperparemeters - defolt\n",
    "from sklearn.ensemble import RandomForestClassifier\n",
    "model = RandomForestClassifier(random_state=12345)\n",
    "model.fit(features_train, target_train)\n",
    "print(model.score(features_valid, target_valid))"
   ]
  },
  {
   "cell_type": "markdown",
   "metadata": {},
   "source": [
    "model.get_params()"
   ]
  },
  {
   "cell_type": "markdown",
   "metadata": {},
   "source": [
    "С помощью перебора, подберем наилучшие параметры модели:"
   ]
  },
  {
   "cell_type": "code",
   "execution_count": 16,
   "metadata": {},
   "outputs": [
    {
     "name": "stdout",
     "output_type": "stream",
     "text": [
      "0.8133748055987559 (13, 'entropy', 8)\n",
      "CPU times: user 10.3 s, sys: 91.7 ms, total: 10.4 s\n",
      "Wall time: 10.6 s\n"
     ]
    }
   ],
   "source": [
    "%%time\n",
    "best_score = 0\n",
    "for n_estimators in range(1,30,2):\n",
    "    for criterion in {'gini', 'entropy'}:\n",
    "        for min_samples_split in range(2,10,2):\n",
    "                model = RandomForestClassifier(n_estimators=n_estimators, criterion=criterion,\n",
    "                                               min_samples_split=min_samples_split, n_jobs=-1, random_state=12345)\n",
    "                model.fit(features_train, target_train)\n",
    "                score = model.score(features_valid, target_valid)\n",
    "                if score > best_score:\n",
    "                    best_score = score\n",
    "                    best_params = (n_estimators, criterion, min_samples_split)\n",
    "                    best_model_RF = model\n",
    "joblib.dump(best_model_RF, 'best_model_RF.joblib')\n",
    "print(best_score, best_params)"
   ]
  },
  {
   "cell_type": "markdown",
   "metadata": {},
   "source": [
    "### Вывод:\n",
    "Наилучшее значение на валидационной выборке метрика \"accuracy\" показала на модели Decision Tree Classifier (Дерево решений) "
   ]
  },
  {
   "cell_type": "markdown",
   "metadata": {},
   "source": [
    "<div class=\"alert alert-block alert-success\">\n",
    "<b>Успех:</b> Этот шаг был сделан отлично. Радует, что ты попробовал несколько разных моделей и подбираешь сразу несколько параметров.\n",
    "</div>"
   ]
  },
  {
   "cell_type": "markdown",
   "metadata": {},
   "source": [
    "## 4. Проверим модели на тестовой выборке"
   ]
  },
  {
   "cell_type": "markdown",
   "metadata": {},
   "source": [
    "Для каждой модели подсчитаем метрику \"accuracy\""
   ]
  },
  {
   "cell_type": "code",
   "execution_count": 17,
   "metadata": {},
   "outputs": [
    {
     "data": {
      "text/plain": [
       "0.7729393468118196"
      ]
     },
     "execution_count": 17,
     "metadata": {},
     "output_type": "execute_result"
    }
   ],
   "source": [
    "model = joblib.load('best_model_DTC.joblib')\n",
    "model.score(features_test, target_test)"
   ]
  },
  {
   "cell_type": "code",
   "execution_count": 18,
   "metadata": {},
   "outputs": [
    {
     "data": {
      "text/plain": [
       "0.7573872472783826"
      ]
     },
     "execution_count": 18,
     "metadata": {},
     "output_type": "execute_result"
    }
   ],
   "source": [
    "model = joblib.load('best_model_KNN.joblib')\n",
    "model.score(features_test, target_test)"
   ]
  },
  {
   "cell_type": "code",
   "execution_count": 19,
   "metadata": {},
   "outputs": [
    {
     "data": {
      "text/plain": [
       "0.7278382581648523"
      ]
     },
     "execution_count": 19,
     "metadata": {},
     "output_type": "execute_result"
    }
   ],
   "source": [
    "model = joblib.load('best_model_LogReg.joblib')\n",
    "model.score(features_test, target_test)"
   ]
  },
  {
   "cell_type": "code",
   "execution_count": 20,
   "metadata": {},
   "outputs": [
    {
     "data": {
      "text/plain": [
       "0.7667185069984448"
      ]
     },
     "execution_count": 20,
     "metadata": {},
     "output_type": "execute_result"
    }
   ],
   "source": [
    "model = joblib.load('best_model_RF.joblib')\n",
    "model.score(features_test, target_test)"
   ]
  },
  {
   "cell_type": "markdown",
   "metadata": {},
   "source": [
    "#### Вывод: \n",
    "из-за частичного переобучения моделей, метрика \"accuracy\" оказалось несколько ниже на тестовой, чем на валидационной выборке, за исключением Логистической регрессии и Случайного леса, т.к. они менее склонны к переобучению.\n",
    "Наилучшее значение на тестовой выборке метрика \"accuracy\" показала на модели RandomForestClassifier (Случайный лес)"
   ]
  },
  {
   "cell_type": "markdown",
   "metadata": {},
   "source": [
    "<div class=\"alert alert-block alert-success\">\n",
    "<b>Успех:</b> Тестирование было сделано абсолютно корректно!\n",
    "</div>"
   ]
  },
  {
   "cell_type": "markdown",
   "metadata": {},
   "source": [
    "## 5. Проверим модели на адекватность"
   ]
  },
  {
   "cell_type": "markdown",
   "metadata": {},
   "source": [
    "За константную модель примем предсказание медианы целевого признака из обучающей для всех объектов валидационной и тестовой выборки."
   ]
  },
  {
   "cell_type": "code",
   "execution_count": 21,
   "metadata": {},
   "outputs": [],
   "source": [
    "predicted_valid = pd.Series([target_train.median() for i in target_valid], index=target_valid.index)"
   ]
  },
  {
   "cell_type": "code",
   "execution_count": 22,
   "metadata": {},
   "outputs": [
    {
     "name": "stdout",
     "output_type": "stream",
     "text": [
      "0.6827371695178849\n"
     ]
    }
   ],
   "source": [
    "print(accuracy_score(target_valid, predicted_valid))"
   ]
  },
  {
   "cell_type": "code",
   "execution_count": 23,
   "metadata": {},
   "outputs": [
    {
     "name": "stdout",
     "output_type": "stream",
     "text": [
      "0.6905132192846034\n"
     ]
    }
   ],
   "source": [
    "predicted_test = pd.Series([target_train.median() for i in target_test], index=target_test.index)\n",
    "print(accuracy_score(target_test, predicted_test))"
   ]
  },
  {
   "cell_type": "markdown",
   "metadata": {},
   "source": [
    "<div class=\"alert alert-block alert-warning\">\n",
    "<b>Комментарий студента:</b> в дополнение, используем реализацию проверки на вменяемость с помощью DummyClassifier\n",
    "</div>"
   ]
  },
  {
   "cell_type": "code",
   "execution_count": 24,
   "metadata": {},
   "outputs": [
    {
     "data": {
      "text/plain": [
       "(0.6827371695178849, 0.6905132192846034)"
      ]
     },
     "execution_count": 24,
     "metadata": {},
     "output_type": "execute_result"
    }
   ],
   "source": [
    "from sklearn.dummy import DummyClassifier\n",
    "dummy_clf = DummyClassifier(strategy=\"prior\", random_state=12345)\n",
    "dummy_clf.fit(features_train, target_train)\n",
    "dummy_clf.score(features_valid, target_valid), dummy_clf.score(features_test, target_test)"
   ]
  },
  {
   "cell_type": "markdown",
   "metadata": {},
   "source": [
    "#### Вывод: \n",
    "метрика \"accuracy\" оказалось ниже (примерно 5-10%) для константной модели как на тестовой, так и на валидационной выборке, следовательно наши модели классификации прошли проверку на вменяемость."
   ]
  },
  {
   "cell_type": "markdown",
   "metadata": {},
   "source": [
    "<div class=\"alert alert-block alert-info\">\n",
    "<b>Совет: </b> В целом, именно это и есть проверка на адекватность. В будущем советую ее реализовывать с помощью с помощью <a href=\"https://scikit-learn.org/stable/modules/generated/sklearn.dummy.DummyClassifier.html\"> DummyClassifier </a>. \n",
    "</div>"
   ]
  },
  {
   "cell_type": "markdown",
   "metadata": {},
   "source": [
    "<div class=\"alert alert-block alert-success\">\n",
    "<b>Успех (ревью 2):</b> Спасибо!\n",
    "</div>"
   ]
  },
  {
   "cell_type": "markdown",
   "metadata": {},
   "source": [
    "### Общий вывод: \n",
    "Построена модель для задачи классификации, которая выбирает подходящий тариф. Найдена модель и подобраны гиперпараметры, обеспечивающие максимально большое значением accuracy на тестовой выборке (RFC) и валидационной выборке (DTC). Доля правильных ответов доведена до 0.75 и выше. Все модели прошли проверку на вменяемость."
   ]
  },
  {
   "cell_type": "markdown",
   "metadata": {},
   "source": [
    "<div class=\"alert alert-block alert-success\">\n",
    "<b>Успех:</b> Приятно видеть вывод в конце проекта!\n",
    "</div>"
   ]
  },
  {
   "cell_type": "markdown",
   "metadata": {},
   "source": [
    "## Чек-лист готовности проекта"
   ]
  },
  {
   "cell_type": "markdown",
   "metadata": {},
   "source": [
    "Поставьте 'x' в выполненных пунктах. Далее нажмите Shift+Enter."
   ]
  },
  {
   "cell_type": "markdown",
   "metadata": {},
   "source": [
    "- [x] Jupyter Notebook открыт\n",
    "- [x] Весь код исполняется без ошибок\n",
    "- [x] Ячейки с кодом расположены в порядке исполнения\n",
    "- [x] Выполнено задание 1: данные загружены и изучены\n",
    "- [x] Выполнено задание 2: данные разбиты на три выборки\n",
    "- [x] Выполнено задание 3: проведено исследование моделей\n",
    "    - [x] Рассмотрено больше одной модели\n",
    "    - [x] Рассмотрено хотя бы 3 значения гипепараметров для какой-нибудь модели\n",
    "    - [x] Написаны выводы по результатам исследования\n",
    "- [x] Выполнено задание 3: Проведено тестирование\n",
    "- [x] Удалось достичь accuracy не меньше 0.75\n"
   ]
  }
 ],
 "metadata": {
  "ExecuteTimeLog": [
   {
    "duration": 820,
    "start_time": "2021-09-27T13:37:47.140Z"
   },
   {
    "duration": 10,
    "start_time": "2021-09-27T13:38:11.457Z"
   },
   {
    "duration": 96,
    "start_time": "2021-09-27T13:40:04.070Z"
   },
   {
    "duration": 5,
    "start_time": "2021-09-27T13:40:09.270Z"
   },
   {
    "duration": 566,
    "start_time": "2021-09-27T13:42:21.601Z"
   },
   {
    "duration": 4,
    "start_time": "2021-09-27T13:43:11.126Z"
   },
   {
    "duration": 410,
    "start_time": "2021-09-27T13:44:08.434Z"
   },
   {
    "duration": 7,
    "start_time": "2021-09-27T13:44:34.228Z"
   },
   {
    "duration": 315,
    "start_time": "2021-09-27T14:27:48.813Z"
   },
   {
    "duration": 283,
    "start_time": "2021-09-27T14:28:34.836Z"
   },
   {
    "duration": 236,
    "start_time": "2021-09-27T14:28:43.205Z"
   },
   {
    "duration": 367,
    "start_time": "2021-09-27T14:29:24.346Z"
   },
   {
    "duration": 290,
    "start_time": "2021-09-27T14:30:25.663Z"
   },
   {
    "duration": 818,
    "start_time": "2021-09-28T04:16:06.729Z"
   },
   {
    "duration": 532,
    "start_time": "2021-09-28T04:16:07.550Z"
   },
   {
    "duration": 9,
    "start_time": "2021-09-28T04:16:08.085Z"
   },
   {
    "duration": 27,
    "start_time": "2021-09-28T04:16:08.096Z"
   },
   {
    "duration": 10,
    "start_time": "2021-09-28T04:16:08.125Z"
   },
   {
    "duration": 429,
    "start_time": "2021-09-28T04:16:08.137Z"
   },
   {
    "duration": -77,
    "start_time": "2021-09-28T04:16:08.645Z"
   },
   {
    "duration": -76,
    "start_time": "2021-09-28T04:16:08.646Z"
   },
   {
    "duration": 265,
    "start_time": "2021-09-28T04:16:41.883Z"
   },
   {
    "duration": 245,
    "start_time": "2021-09-28T04:16:51.428Z"
   },
   {
    "duration": 266,
    "start_time": "2021-09-28T04:17:45.005Z"
   },
   {
    "duration": 538,
    "start_time": "2021-09-28T04:36:49.091Z"
   },
   {
    "duration": 239,
    "start_time": "2021-09-28T04:37:25.189Z"
   },
   {
    "duration": 301,
    "start_time": "2021-09-28T05:30:04.850Z"
   },
   {
    "duration": 8,
    "start_time": "2021-09-28T05:31:59.105Z"
   },
   {
    "duration": 317,
    "start_time": "2021-09-28T05:32:05.047Z"
   },
   {
    "duration": 255,
    "start_time": "2021-09-28T05:32:16.234Z"
   },
   {
    "duration": 892,
    "start_time": "2021-09-28T05:32:38.251Z"
   },
   {
    "duration": 182,
    "start_time": "2021-09-28T05:40:32.840Z"
   },
   {
    "duration": 147,
    "start_time": "2021-09-28T05:40:58.770Z"
   },
   {
    "duration": 870,
    "start_time": "2021-09-28T05:41:04.248Z"
   },
   {
    "duration": 890,
    "start_time": "2021-09-28T05:42:49.823Z"
   },
   {
    "duration": 27,
    "start_time": "2021-09-28T05:44:15.982Z"
   },
   {
    "duration": 83,
    "start_time": "2021-09-28T05:45:28.560Z"
   },
   {
    "duration": 1971,
    "start_time": "2021-09-28T05:46:02.078Z"
   },
   {
    "duration": 1048,
    "start_time": "2021-09-28T05:46:38.846Z"
   },
   {
    "duration": 19795,
    "start_time": "2021-09-28T05:48:32.430Z"
   },
   {
    "duration": 21117,
    "start_time": "2021-09-28T05:49:16.380Z"
   },
   {
    "duration": 21525,
    "start_time": "2021-09-28T05:56:18.391Z"
   },
   {
    "duration": 1241,
    "start_time": "2021-09-28T05:59:27.588Z"
   },
   {
    "duration": 96,
    "start_time": "2021-09-28T06:06:21.973Z"
   },
   {
    "duration": 23,
    "start_time": "2021-09-28T06:07:08.904Z"
   },
   {
    "duration": 170,
    "start_time": "2021-09-28T11:05:37.180Z"
   },
   {
    "duration": 730,
    "start_time": "2021-09-28T11:09:50.369Z"
   },
   {
    "duration": 204,
    "start_time": "2021-09-28T11:10:10.831Z"
   },
   {
    "duration": 264,
    "start_time": "2021-09-28T11:10:27.374Z"
   },
   {
    "duration": 203,
    "start_time": "2021-09-28T11:10:35.584Z"
   },
   {
    "duration": 182,
    "start_time": "2021-09-28T11:10:45.690Z"
   },
   {
    "duration": 1405,
    "start_time": "2021-09-28T11:11:17.246Z"
   },
   {
    "duration": 1250,
    "start_time": "2021-09-28T11:11:45.197Z"
   },
   {
    "duration": 1546,
    "start_time": "2021-09-28T11:12:44.768Z"
   },
   {
    "duration": 4617,
    "start_time": "2021-09-28T11:13:13.436Z"
   },
   {
    "duration": 20,
    "start_time": "2021-09-28T11:13:18.062Z"
   },
   {
    "duration": 20788,
    "start_time": "2021-09-28T11:15:07.977Z"
   },
   {
    "duration": 4615,
    "start_time": "2021-09-28T11:15:39.915Z"
   },
   {
    "duration": 10682,
    "start_time": "2021-09-28T11:17:17.283Z"
   },
   {
    "duration": 4723,
    "start_time": "2021-09-28T11:17:57.011Z"
   },
   {
    "duration": 24,
    "start_time": "2021-09-28T11:18:42.980Z"
   },
   {
    "duration": 5088,
    "start_time": "2021-09-28T11:18:44.068Z"
   },
   {
    "duration": 6062,
    "start_time": "2021-09-28T11:19:30.131Z"
   },
   {
    "duration": 298,
    "start_time": "2021-09-28T11:32:52.744Z"
   },
   {
    "duration": 370,
    "start_time": "2021-09-28T11:33:04.898Z"
   },
   {
    "duration": 279,
    "start_time": "2021-09-28T11:33:26.827Z"
   },
   {
    "duration": 256,
    "start_time": "2021-09-28T11:34:06.681Z"
   },
   {
    "duration": 263,
    "start_time": "2021-09-28T11:34:19.794Z"
   },
   {
    "duration": 238,
    "start_time": "2021-09-28T12:02:58.995Z"
   },
   {
    "duration": 1215,
    "start_time": "2021-09-28T12:03:43.500Z"
   },
   {
    "duration": 49,
    "start_time": "2021-09-28T12:03:51.555Z"
   },
   {
    "duration": 44400,
    "start_time": "2021-09-28T12:09:23.853Z"
   },
   {
    "duration": 43830,
    "start_time": "2021-09-28T12:12:04.324Z"
   },
   {
    "duration": 19024,
    "start_time": "2021-09-28T12:14:21.854Z"
   },
   {
    "duration": 302,
    "start_time": "2021-09-28T12:15:40.492Z"
   },
   {
    "duration": 5,
    "start_time": "2021-09-28T12:15:47.182Z"
   },
   {
    "duration": 121,
    "start_time": "2021-09-28T12:17:52.824Z"
   },
   {
    "duration": 85793,
    "start_time": "2021-09-28T12:18:22.593Z"
   },
   {
    "duration": 6,
    "start_time": "2021-09-28T12:20:48.530Z"
   },
   {
    "duration": 144,
    "start_time": "2021-09-28T12:28:41.964Z"
   },
   {
    "duration": 347,
    "start_time": "2021-09-28T12:29:23.811Z"
   },
   {
    "duration": 355,
    "start_time": "2021-09-28T12:30:56.675Z"
   },
   {
    "duration": 513,
    "start_time": "2021-09-28T12:32:00.977Z"
   },
   {
    "duration": 4312,
    "start_time": "2021-09-28T12:32:37.517Z"
   },
   {
    "duration": 191,
    "start_time": "2021-09-28T12:34:39.019Z"
   },
   {
    "duration": 250,
    "start_time": "2021-09-28T17:19:44.251Z"
   },
   {
    "duration": 1149,
    "start_time": "2021-09-28T17:19:51.198Z"
   },
   {
    "duration": -47,
    "start_time": "2021-09-28T17:19:52.397Z"
   },
   {
    "duration": 782,
    "start_time": "2021-09-28T17:20:01.176Z"
   },
   {
    "duration": 500,
    "start_time": "2021-09-28T17:20:01.960Z"
   },
   {
    "duration": 9,
    "start_time": "2021-09-28T17:20:02.462Z"
   },
   {
    "duration": 12,
    "start_time": "2021-09-28T17:20:02.473Z"
   },
   {
    "duration": 15,
    "start_time": "2021-09-28T17:20:02.487Z"
   },
   {
    "duration": 4348,
    "start_time": "2021-09-28T17:20:02.504Z"
   },
   {
    "duration": 32,
    "start_time": "2021-09-28T17:20:06.855Z"
   },
   {
    "duration": 23,
    "start_time": "2021-09-28T17:20:06.891Z"
   },
   {
    "duration": 5870,
    "start_time": "2021-09-28T17:20:06.916Z"
   },
   {
    "duration": 44,
    "start_time": "2021-09-28T17:20:12.789Z"
   },
   {
    "duration": 296,
    "start_time": "2021-09-28T17:20:12.836Z"
   },
   {
    "duration": 7,
    "start_time": "2021-09-28T17:20:13.135Z"
   },
   {
    "duration": 190,
    "start_time": "2021-09-28T17:48:58.032Z"
   },
   {
    "duration": 6236,
    "start_time": "2021-09-28T17:49:37.618Z"
   },
   {
    "duration": 3073,
    "start_time": "2021-09-28T17:50:37.668Z"
   },
   {
    "duration": 6385,
    "start_time": "2021-09-28T17:50:56.868Z"
   },
   {
    "duration": 6334,
    "start_time": "2021-09-28T17:51:15.505Z"
   },
   {
    "duration": 6286,
    "start_time": "2021-09-28T17:51:34.202Z"
   },
   {
    "duration": 5,
    "start_time": "2021-09-28T17:52:04.233Z"
   },
   {
    "duration": 13578,
    "start_time": "2021-09-28T17:52:24.387Z"
   },
   {
    "duration": 6249,
    "start_time": "2021-09-28T17:52:58.497Z"
   },
   {
    "duration": 3324,
    "start_time": "2021-09-28T17:53:33.800Z"
   },
   {
    "duration": 6337,
    "start_time": "2021-09-28T17:54:00.202Z"
   },
   {
    "duration": 3,
    "start_time": "2021-09-28T18:16:11.346Z"
   },
   {
    "duration": 23,
    "start_time": "2021-09-28T18:16:49.810Z"
   },
   {
    "duration": 6,
    "start_time": "2021-09-28T18:18:06.022Z"
   },
   {
    "duration": 93,
    "start_time": "2021-09-28T18:42:26.474Z"
   },
   {
    "duration": 90,
    "start_time": "2021-09-28T18:42:52.365Z"
   },
   {
    "duration": 172,
    "start_time": "2021-09-28T18:44:11.329Z"
   },
   {
    "duration": 138,
    "start_time": "2021-09-28T19:19:17.823Z"
   },
   {
    "duration": 105,
    "start_time": "2021-09-28T19:19:57.878Z"
   },
   {
    "duration": 11895,
    "start_time": "2021-09-28T19:20:57.140Z"
   },
   {
    "duration": 291,
    "start_time": "2021-09-28T19:28:07.383Z"
   },
   {
    "duration": 4,
    "start_time": "2021-09-28T19:28:38.365Z"
   },
   {
    "duration": 13794,
    "start_time": "2021-09-28T19:28:55.745Z"
   },
   {
    "duration": 17718,
    "start_time": "2021-09-28T19:29:34.186Z"
   },
   {
    "duration": 16261,
    "start_time": "2021-09-28T19:32:08.496Z"
   },
   {
    "duration": 3,
    "start_time": "2021-09-28T19:32:24.760Z"
   },
   {
    "duration": 34,
    "start_time": "2021-09-28T19:32:24.766Z"
   },
   {
    "duration": 292,
    "start_time": "2021-09-28T19:36:21.770Z"
   },
   {
    "duration": 294,
    "start_time": "2021-09-28T19:38:14.334Z"
   },
   {
    "duration": 10,
    "start_time": "2021-09-28T19:38:22.825Z"
   },
   {
    "duration": 290,
    "start_time": "2021-09-28T19:47:09.749Z"
   },
   {
    "duration": 232,
    "start_time": "2021-09-28T19:50:25.823Z"
   },
   {
    "duration": 172,
    "start_time": "2021-09-28T19:51:18.952Z"
   },
   {
    "duration": 187,
    "start_time": "2021-09-28T19:55:05.387Z"
   },
   {
    "duration": 948,
    "start_time": "2021-09-28T19:55:34.303Z"
   },
   {
    "duration": 6,
    "start_time": "2021-09-28T19:57:25.613Z"
   },
   {
    "duration": 32,
    "start_time": "2021-09-28T19:58:58.165Z"
   },
   {
    "duration": 33,
    "start_time": "2021-09-28T19:59:50.035Z"
   },
   {
    "duration": 30,
    "start_time": "2021-09-28T20:00:12.812Z"
   },
   {
    "duration": 31,
    "start_time": "2021-09-28T20:01:09.075Z"
   },
   {
    "duration": 31,
    "start_time": "2021-09-28T20:07:08.795Z"
   },
   {
    "duration": 3,
    "start_time": "2021-09-29T05:38:50.439Z"
   },
   {
    "duration": 636,
    "start_time": "2021-09-29T05:38:50.446Z"
   },
   {
    "duration": 373,
    "start_time": "2021-09-29T05:38:51.084Z"
   },
   {
    "duration": 6,
    "start_time": "2021-09-29T05:38:51.459Z"
   },
   {
    "duration": 5,
    "start_time": "2021-09-29T05:38:51.467Z"
   },
   {
    "duration": 6,
    "start_time": "2021-09-29T05:38:51.474Z"
   },
   {
    "duration": 3078,
    "start_time": "2021-09-29T05:38:51.482Z"
   },
   {
    "duration": 14,
    "start_time": "2021-09-29T05:38:54.563Z"
   },
   {
    "duration": 31,
    "start_time": "2021-09-29T05:38:54.579Z"
   },
   {
    "duration": 3889,
    "start_time": "2021-09-29T05:38:54.612Z"
   },
   {
    "duration": 30,
    "start_time": "2021-09-29T05:38:58.503Z"
   },
   {
    "duration": 4609,
    "start_time": "2021-09-29T05:38:58.535Z"
   },
   {
    "duration": 4,
    "start_time": "2021-09-29T05:39:03.146Z"
   },
   {
    "duration": 14,
    "start_time": "2021-09-29T05:39:03.152Z"
   },
   {
    "duration": 4,
    "start_time": "2021-09-29T05:39:03.168Z"
   },
   {
    "duration": 10048,
    "start_time": "2021-09-29T05:39:03.174Z"
   },
   {
    "duration": 7,
    "start_time": "2021-09-29T05:39:13.224Z"
   },
   {
    "duration": 21,
    "start_time": "2021-09-29T05:39:13.233Z"
   },
   {
    "duration": 270,
    "start_time": "2021-09-29T05:53:55.069Z"
   },
   {
    "duration": 403,
    "start_time": "2021-09-29T05:54:50.781Z"
   },
   {
    "duration": 50,
    "start_time": "2021-09-29T05:55:01.201Z"
   },
   {
    "duration": 140,
    "start_time": "2021-09-29T05:58:54.496Z"
   },
   {
    "duration": 16943,
    "start_time": "2021-09-29T05:59:21.252Z"
   },
   {
    "duration": 16904,
    "start_time": "2021-09-29T05:59:56.199Z"
   },
   {
    "duration": 64092,
    "start_time": "2021-09-29T06:01:07.302Z"
   },
   {
    "duration": 17138,
    "start_time": "2021-09-29T06:03:15.214Z"
   },
   {
    "duration": 64825,
    "start_time": "2021-09-29T06:04:39.150Z"
   },
   {
    "duration": 67326,
    "start_time": "2021-09-29T06:07:29.816Z"
   },
   {
    "duration": 21613,
    "start_time": "2021-09-29T06:13:42.310Z"
   },
   {
    "duration": 19648,
    "start_time": "2021-09-29T06:19:24.955Z"
   },
   {
    "duration": 71567,
    "start_time": "2021-09-29T06:20:19.835Z"
   },
   {
    "duration": 6,
    "start_time": "2021-09-29T06:35:40.255Z"
   },
   {
    "duration": 16631,
    "start_time": "2021-09-29T06:36:17.783Z"
   },
   {
    "duration": 76590,
    "start_time": "2021-09-29T06:37:35.054Z"
   },
   {
    "duration": 73297,
    "start_time": "2021-09-29T06:40:18.430Z"
   },
   {
    "duration": 19910,
    "start_time": "2021-09-29T06:42:27.540Z"
   },
   {
    "duration": 72,
    "start_time": "2021-09-29T06:44:22.323Z"
   },
   {
    "duration": 56,
    "start_time": "2021-09-29T06:44:25.852Z"
   },
   {
    "duration": 26353,
    "start_time": "2021-09-29T06:44:59.213Z"
   },
   {
    "duration": 100565,
    "start_time": "2021-09-29T06:46:26.228Z"
   },
   {
    "duration": 21575,
    "start_time": "2021-09-29T06:49:14.010Z"
   },
   {
    "duration": 5709,
    "start_time": "2021-09-29T06:54:30.035Z"
   },
   {
    "duration": 5900,
    "start_time": "2021-09-29T06:55:04.330Z"
   },
   {
    "duration": 3,
    "start_time": "2021-09-29T06:59:59.657Z"
   },
   {
    "duration": 3,
    "start_time": "2021-09-29T07:00:00.153Z"
   },
   {
    "duration": 24,
    "start_time": "2021-09-29T07:00:03.844Z"
   },
   {
    "duration": 12,
    "start_time": "2021-09-29T07:00:04.802Z"
   },
   {
    "duration": 4,
    "start_time": "2021-09-29T07:00:08.787Z"
   },
   {
    "duration": 6,
    "start_time": "2021-09-29T07:00:09.050Z"
   },
   {
    "duration": 3541,
    "start_time": "2021-09-29T07:00:18.049Z"
   },
   {
    "duration": 9967,
    "start_time": "2021-09-29T07:00:39.906Z"
   },
   {
    "duration": 3387,
    "start_time": "2021-09-29T07:00:58.041Z"
   },
   {
    "duration": 22,
    "start_time": "2021-09-29T07:01:07.896Z"
   },
   {
    "duration": 20,
    "start_time": "2021-09-29T07:01:39.002Z"
   },
   {
    "duration": 3385,
    "start_time": "2021-09-29T07:01:41.680Z"
   },
   {
    "duration": 23,
    "start_time": "2021-09-29T07:02:15.000Z"
   },
   {
    "duration": 4402,
    "start_time": "2021-09-29T07:02:22.313Z"
   },
   {
    "duration": 12729,
    "start_time": "2021-09-29T07:02:44.713Z"
   },
   {
    "duration": 5107,
    "start_time": "2021-09-29T07:03:21.712Z"
   },
   {
    "duration": 23,
    "start_time": "2021-09-29T07:03:52.376Z"
   },
   {
    "duration": 3825,
    "start_time": "2021-09-29T07:03:59.367Z"
   },
   {
    "duration": 3814,
    "start_time": "2021-09-29T07:05:55.081Z"
   },
   {
    "duration": 4462,
    "start_time": "2021-09-29T07:06:19.936Z"
   },
   {
    "duration": 14,
    "start_time": "2021-09-29T07:07:19.166Z"
   },
   {
    "duration": 9753,
    "start_time": "2021-09-29T07:07:23.141Z"
   },
   {
    "duration": 10555,
    "start_time": "2021-09-29T07:09:05.047Z"
   },
   {
    "duration": 8,
    "start_time": "2021-09-29T07:09:55.283Z"
   },
   {
    "duration": 20,
    "start_time": "2021-09-29T07:09:58.553Z"
   },
   {
    "duration": 7,
    "start_time": "2021-09-29T07:10:13.070Z"
   },
   {
    "duration": 25,
    "start_time": "2021-09-29T07:10:13.496Z"
   },
   {
    "duration": 10,
    "start_time": "2021-09-29T07:10:24.119Z"
   },
   {
    "duration": 22,
    "start_time": "2021-09-29T07:10:24.663Z"
   },
   {
    "duration": 7,
    "start_time": "2021-09-29T07:10:33.071Z"
   },
   {
    "duration": 22,
    "start_time": "2021-09-29T07:10:33.432Z"
   },
   {
    "duration": 27,
    "start_time": "2021-09-29T07:10:46.304Z"
   },
   {
    "duration": 58,
    "start_time": "2021-09-29T07:10:51.983Z"
   },
   {
    "duration": 19321,
    "start_time": "2021-09-29T07:10:57.621Z"
   },
   {
    "duration": 67610,
    "start_time": "2021-09-29T07:15:35.125Z"
   },
   {
    "duration": 48,
    "start_time": "2021-09-29T07:16:47.654Z"
   },
   {
    "duration": 67097,
    "start_time": "2021-09-29T07:16:47.981Z"
   },
   {
    "duration": 48299,
    "start_time": "2021-09-29T07:25:30.980Z"
   },
   {
    "duration": 6266,
    "start_time": "2021-09-29T07:27:01.438Z"
   },
   {
    "duration": 49,
    "start_time": "2021-09-29T07:27:43.771Z"
   },
   {
    "duration": 4,
    "start_time": "2021-09-29T07:27:43.931Z"
   },
   {
    "duration": 49,
    "start_time": "2021-09-29T07:28:12.732Z"
   },
   {
    "duration": 5,
    "start_time": "2021-09-29T07:28:13.227Z"
   },
   {
    "duration": 14064,
    "start_time": "2021-09-29T07:29:04.723Z"
   },
   {
    "duration": 68,
    "start_time": "2021-09-29T07:29:50.589Z"
   },
   {
    "duration": -305,
    "start_time": "2021-09-29T07:32:24.255Z"
   },
   {
    "duration": 4218,
    "start_time": "2021-09-29T07:32:24.198Z"
   },
   {
    "duration": 194,
    "start_time": "2021-09-29T07:57:45.001Z"
   },
   {
    "duration": 24,
    "start_time": "2021-09-29T07:57:52.862Z"
   },
   {
    "duration": 10,
    "start_time": "2021-09-29T07:58:01.845Z"
   },
   {
    "duration": 10,
    "start_time": "2021-09-29T07:58:08.813Z"
   },
   {
    "duration": 194,
    "start_time": "2021-09-29T07:58:37.573Z"
   },
   {
    "duration": 9,
    "start_time": "2021-09-29T07:58:44.084Z"
   },
   {
    "duration": 21,
    "start_time": "2021-09-29T07:58:47.300Z"
   },
   {
    "duration": 49,
    "start_time": "2021-09-29T07:58:53.699Z"
   },
   {
    "duration": 67,
    "start_time": "2021-09-29T07:59:02.916Z"
   },
   {
    "duration": 4,
    "start_time": "2021-09-29T07:59:14.198Z"
   },
   {
    "duration": 681,
    "start_time": "2021-09-29T07:59:14.205Z"
   },
   {
    "duration": 387,
    "start_time": "2021-09-29T07:59:14.888Z"
   },
   {
    "duration": 6,
    "start_time": "2021-09-29T07:59:15.280Z"
   },
   {
    "duration": 6,
    "start_time": "2021-09-29T07:59:15.287Z"
   },
   {
    "duration": 11,
    "start_time": "2021-09-29T07:59:15.294Z"
   },
   {
    "duration": 362,
    "start_time": "2021-09-29T07:59:15.306Z"
   },
   {
    "duration": -32,
    "start_time": "2021-09-29T07:59:15.702Z"
   },
   {
    "duration": -33,
    "start_time": "2021-09-29T07:59:15.703Z"
   },
   {
    "duration": -33,
    "start_time": "2021-09-29T07:59:15.704Z"
   },
   {
    "duration": -33,
    "start_time": "2021-09-29T07:59:15.705Z"
   },
   {
    "duration": -44,
    "start_time": "2021-09-29T07:59:15.717Z"
   },
   {
    "duration": -44,
    "start_time": "2021-09-29T07:59:15.718Z"
   },
   {
    "duration": -44,
    "start_time": "2021-09-29T07:59:15.719Z"
   },
   {
    "duration": -44,
    "start_time": "2021-09-29T07:59:15.720Z"
   },
   {
    "duration": -44,
    "start_time": "2021-09-29T07:59:15.721Z"
   },
   {
    "duration": -45,
    "start_time": "2021-09-29T07:59:15.723Z"
   },
   {
    "duration": -45,
    "start_time": "2021-09-29T07:59:15.724Z"
   },
   {
    "duration": -45,
    "start_time": "2021-09-29T07:59:15.725Z"
   },
   {
    "duration": -45,
    "start_time": "2021-09-29T07:59:15.726Z"
   },
   {
    "duration": 2,
    "start_time": "2021-09-29T08:06:17.731Z"
   },
   {
    "duration": 207,
    "start_time": "2021-09-29T08:06:21.007Z"
   },
   {
    "duration": 16,
    "start_time": "2021-09-29T08:06:31.270Z"
   },
   {
    "duration": 3,
    "start_time": "2021-09-29T08:11:46.119Z"
   },
   {
    "duration": 666,
    "start_time": "2021-09-29T08:11:46.124Z"
   },
   {
    "duration": 390,
    "start_time": "2021-09-29T08:11:46.792Z"
   },
   {
    "duration": 7,
    "start_time": "2021-09-29T08:11:47.184Z"
   },
   {
    "duration": 19,
    "start_time": "2021-09-29T08:11:47.192Z"
   },
   {
    "duration": 36,
    "start_time": "2021-09-29T08:11:47.213Z"
   },
   {
    "duration": 52,
    "start_time": "2021-09-29T08:11:47.250Z"
   },
   {
    "duration": 3202,
    "start_time": "2021-09-29T08:11:47.305Z"
   },
   {
    "duration": 16,
    "start_time": "2021-09-29T08:11:50.509Z"
   },
   {
    "duration": 4557,
    "start_time": "2021-09-29T08:11:50.527Z"
   },
   {
    "duration": 32,
    "start_time": "2021-09-29T08:11:55.086Z"
   },
   {
    "duration": 4636,
    "start_time": "2021-09-29T08:11:55.120Z"
   },
   {
    "duration": 13,
    "start_time": "2021-09-29T08:11:59.758Z"
   },
   {
    "duration": 10937,
    "start_time": "2021-09-29T08:11:59.772Z"
   },
   {
    "duration": 98,
    "start_time": "2021-09-29T08:12:10.803Z"
   },
   {
    "duration": 24,
    "start_time": "2021-09-29T08:12:10.903Z"
   },
   {
    "duration": 73,
    "start_time": "2021-09-29T08:12:10.928Z"
   },
   {
    "duration": 14091,
    "start_time": "2021-09-29T08:12:11.002Z"
   },
   {
    "duration": 67,
    "start_time": "2021-09-29T08:12:25.094Z"
   },
   {
    "duration": 5425,
    "start_time": "2021-09-29T08:12:25.162Z"
   },
   {
    "duration": 275,
    "start_time": "2021-09-29T08:18:14.187Z"
   },
   {
    "duration": 3,
    "start_time": "2021-09-29T08:18:20.323Z"
   },
   {
    "duration": 203,
    "start_time": "2021-09-29T08:18:20.738Z"
   },
   {
    "duration": 10,
    "start_time": "2021-09-29T08:28:24.377Z"
   },
   {
    "duration": 1105,
    "start_time": "2021-09-29T08:29:12.114Z"
   },
   {
    "duration": 9,
    "start_time": "2021-09-29T08:29:47.562Z"
   },
   {
    "duration": 10,
    "start_time": "2021-09-29T08:30:01.674Z"
   },
   {
    "duration": 3265,
    "start_time": "2021-09-29T08:30:42.188Z"
   },
   {
    "duration": 3360,
    "start_time": "2021-09-29T08:31:21.654Z"
   },
   {
    "duration": 9274,
    "start_time": "2021-09-29T08:31:47.136Z"
   },
   {
    "duration": 15,
    "start_time": "2021-09-29T08:32:11.360Z"
   },
   {
    "duration": 7,
    "start_time": "2021-09-29T08:32:21.248Z"
   },
   {
    "duration": 17,
    "start_time": "2021-09-29T08:32:23.040Z"
   },
   {
    "duration": 9246,
    "start_time": "2021-09-29T08:32:23.705Z"
   },
   {
    "duration": 11,
    "start_time": "2021-09-29T08:33:02.688Z"
   },
   {
    "duration": 13,
    "start_time": "2021-09-29T08:46:15.014Z"
   },
   {
    "duration": 12,
    "start_time": "2021-09-29T08:46:18.549Z"
   },
   {
    "duration": 14,
    "start_time": "2021-09-29T08:48:54.509Z"
   },
   {
    "duration": 208,
    "start_time": "2021-09-29T08:50:06.030Z"
   },
   {
    "duration": 5,
    "start_time": "2021-09-29T08:50:30.091Z"
   },
   {
    "duration": 17,
    "start_time": "2021-09-29T08:51:00.275Z"
   },
   {
    "duration": 5,
    "start_time": "2021-09-29T08:51:01.806Z"
   },
   {
    "duration": 12,
    "start_time": "2021-09-29T08:51:09.318Z"
   },
   {
    "duration": 4,
    "start_time": "2021-09-29T08:51:10.162Z"
   },
   {
    "duration": 11,
    "start_time": "2021-09-29T08:52:54.804Z"
   },
   {
    "duration": 241,
    "start_time": "2021-09-29T08:53:02.861Z"
   },
   {
    "duration": 10,
    "start_time": "2021-09-29T09:03:12.004Z"
   },
   {
    "duration": 7,
    "start_time": "2021-09-29T09:03:12.516Z"
   },
   {
    "duration": 14,
    "start_time": "2021-09-29T09:13:09.096Z"
   },
   {
    "duration": 6,
    "start_time": "2021-09-29T09:13:09.703Z"
   },
   {
    "duration": 13,
    "start_time": "2021-09-29T09:13:34.569Z"
   },
   {
    "duration": 5,
    "start_time": "2021-09-29T09:13:35.056Z"
   },
   {
    "duration": 6,
    "start_time": "2021-09-29T09:13:36.072Z"
   },
   {
    "duration": 12,
    "start_time": "2021-09-29T09:18:49.299Z"
   },
   {
    "duration": 15107,
    "start_time": "2021-09-29T09:19:05.595Z"
   },
   {
    "duration": 52,
    "start_time": "2021-09-29T09:20:20.526Z"
   },
   {
    "duration": 64,
    "start_time": "2021-09-29T09:20:24.479Z"
   },
   {
    "duration": 53,
    "start_time": "2021-09-29T09:20:38.130Z"
   },
   {
    "duration": 58,
    "start_time": "2021-09-29T09:20:42.766Z"
   },
   {
    "duration": 60,
    "start_time": "2021-09-29T09:20:56.283Z"
   },
   {
    "duration": 7,
    "start_time": "2021-09-29T09:21:34.640Z"
   },
   {
    "duration": 4,
    "start_time": "2021-09-29T09:21:39.933Z"
   },
   {
    "duration": 8,
    "start_time": "2021-09-29T09:21:40.296Z"
   },
   {
    "duration": 60,
    "start_time": "2021-09-29T09:22:01.502Z"
   },
   {
    "duration": 15508,
    "start_time": "2021-09-29T09:22:15.885Z"
   },
   {
    "duration": 15413,
    "start_time": "2021-09-29T09:22:32.548Z"
   },
   {
    "duration": 5,
    "start_time": "2021-09-29T09:23:54.594Z"
   },
   {
    "duration": 61,
    "start_time": "2021-09-29T09:24:53.780Z"
   },
   {
    "duration": 4,
    "start_time": "2021-09-29T09:24:54.363Z"
   },
   {
    "duration": 38332,
    "start_time": "2021-09-29T09:25:53.719Z"
   },
   {
    "duration": 37447,
    "start_time": "2021-09-29T09:54:30.735Z"
   },
   {
    "duration": 57,
    "start_time": "2021-09-29T09:55:56.031Z"
   },
   {
    "duration": 4,
    "start_time": "2021-09-29T09:55:57.998Z"
   },
   {
    "duration": 4282,
    "start_time": "2021-09-29T10:00:41.285Z"
   },
   {
    "duration": 4290,
    "start_time": "2021-09-29T10:00:48.454Z"
   },
   {
    "duration": 9008,
    "start_time": "2021-09-29T10:01:24.879Z"
   },
   {
    "duration": 55,
    "start_time": "2021-09-29T10:02:29.254Z"
   },
   {
    "duration": 4,
    "start_time": "2021-09-29T10:02:30.261Z"
   },
   {
    "duration": 4292,
    "start_time": "2021-09-29T10:02:31.157Z"
   },
   {
    "duration": 8876,
    "start_time": "2021-09-29T10:02:35.451Z"
   },
   {
    "duration": 9554,
    "start_time": "2021-09-29T10:57:05.177Z"
   },
   {
    "duration": 4,
    "start_time": "2021-09-29T17:04:16.320Z"
   },
   {
    "duration": 878,
    "start_time": "2021-09-29T17:04:16.925Z"
   },
   {
    "duration": 585,
    "start_time": "2021-09-29T17:04:17.805Z"
   },
   {
    "duration": 10,
    "start_time": "2021-09-29T17:04:19.333Z"
   },
   {
    "duration": 5,
    "start_time": "2021-09-29T17:04:21.829Z"
   },
   {
    "duration": 11,
    "start_time": "2021-09-29T17:04:22.596Z"
   },
   {
    "duration": 58,
    "start_time": "2021-09-29T17:04:32.598Z"
   },
   {
    "duration": 29,
    "start_time": "2021-09-29T17:04:45.910Z"
   },
   {
    "duration": 22,
    "start_time": "2021-09-29T17:06:57.942Z"
   },
   {
    "duration": 22,
    "start_time": "2021-09-29T17:24:03.152Z"
   },
   {
    "duration": 13805,
    "start_time": "2021-09-29T17:24:03.811Z"
   },
   {
    "duration": 14003,
    "start_time": "2021-09-29T17:24:17.620Z"
   },
   {
    "duration": 14549,
    "start_time": "2021-09-29T17:26:00.218Z"
   },
   {
    "duration": 8,
    "start_time": "2021-09-29T17:29:03.271Z"
   },
   {
    "duration": 997,
    "start_time": "2021-09-29T17:29:03.282Z"
   },
   {
    "duration": 613,
    "start_time": "2021-09-29T17:29:04.282Z"
   },
   {
    "duration": 9,
    "start_time": "2021-09-29T17:29:04.898Z"
   },
   {
    "duration": 8,
    "start_time": "2021-09-29T17:29:04.910Z"
   },
   {
    "duration": 14,
    "start_time": "2021-09-29T17:29:04.920Z"
   },
   {
    "duration": 95,
    "start_time": "2021-09-29T17:29:04.939Z"
   },
   {
    "duration": 13805,
    "start_time": "2021-09-29T17:29:05.038Z"
   },
   {
    "duration": 14397,
    "start_time": "2021-09-29T17:29:18.846Z"
   },
   {
    "duration": 39,
    "start_time": "2021-09-29T17:29:33.245Z"
   },
   {
    "duration": 7748,
    "start_time": "2021-09-29T17:29:33.287Z"
   },
   {
    "duration": 53,
    "start_time": "2021-09-29T17:29:41.038Z"
   },
   {
    "duration": 6169,
    "start_time": "2021-09-29T17:29:41.093Z"
   },
   {
    "duration": 34,
    "start_time": "2021-09-29T17:29:47.267Z"
   },
   {
    "duration": 31642,
    "start_time": "2021-09-29T17:29:47.303Z"
   },
   {
    "duration": 10,
    "start_time": "2021-09-29T17:30:18.947Z"
   },
   {
    "duration": 41,
    "start_time": "2021-09-29T17:30:18.968Z"
   },
   {
    "duration": 116,
    "start_time": "2021-09-29T17:30:19.012Z"
   },
   {
    "duration": 7,
    "start_time": "2021-09-29T17:30:19.132Z"
   },
   {
    "duration": 6789,
    "start_time": "2021-09-29T17:30:19.142Z"
   },
   {
    "duration": 14905,
    "start_time": "2021-09-29T17:30:25.934Z"
   },
   {
    "duration": 116,
    "start_time": "2021-09-29T17:30:40.842Z"
   },
   {
    "duration": 8476,
    "start_time": "2021-09-29T17:30:40.968Z"
   },
   {
    "duration": 4,
    "start_time": "2021-09-29T17:30:49.447Z"
   },
   {
    "duration": 32,
    "start_time": "2021-09-29T17:30:49.453Z"
   },
   {
    "duration": 7,
    "start_time": "2021-09-29T17:30:49.488Z"
   },
   {
    "duration": 19,
    "start_time": "2021-09-29T17:30:49.498Z"
   },
   {
    "duration": 6,
    "start_time": "2021-09-29T17:30:49.520Z"
   },
   {
    "duration": 11,
    "start_time": "2021-09-29T17:30:49.567Z"
   },
   {
    "duration": 11,
    "start_time": "2021-09-29T17:30:49.581Z"
   },
   {
    "duration": 9,
    "start_time": "2021-09-29T17:30:49.594Z"
   },
   {
    "duration": 14333,
    "start_time": "2021-09-29T17:31:04.089Z"
   },
   {
    "duration": 5,
    "start_time": "2021-10-01T06:55:33.384Z"
   },
   {
    "duration": 806,
    "start_time": "2021-10-01T06:55:33.397Z"
   },
   {
    "duration": 526,
    "start_time": "2021-10-01T06:55:34.206Z"
   },
   {
    "duration": 9,
    "start_time": "2021-10-01T06:55:34.735Z"
   },
   {
    "duration": 7,
    "start_time": "2021-10-01T06:55:34.746Z"
   },
   {
    "duration": 18,
    "start_time": "2021-10-01T06:55:34.755Z"
   },
   {
    "duration": 75,
    "start_time": "2021-10-01T06:55:34.775Z"
   },
   {
    "duration": 12787,
    "start_time": "2021-10-01T06:55:34.852Z"
   },
   {
    "duration": 13461,
    "start_time": "2021-10-01T06:55:47.643Z"
   },
   {
    "duration": 32,
    "start_time": "2021-10-01T06:56:01.107Z"
   },
   {
    "duration": 6745,
    "start_time": "2021-10-01T06:56:01.141Z"
   },
   {
    "duration": 62,
    "start_time": "2021-10-01T06:56:07.889Z"
   },
   {
    "duration": 6338,
    "start_time": "2021-10-01T06:56:07.954Z"
   },
   {
    "duration": 34,
    "start_time": "2021-10-01T06:56:14.294Z"
   },
   {
    "duration": 17095,
    "start_time": "2021-10-01T06:56:14.330Z"
   },
   {
    "duration": 101,
    "start_time": "2021-10-01T06:56:31.429Z"
   },
   {
    "duration": 49,
    "start_time": "2021-10-01T06:56:31.533Z"
   },
   {
    "duration": 99,
    "start_time": "2021-10-01T06:56:31.585Z"
   },
   {
    "duration": 6,
    "start_time": "2021-10-01T06:56:31.686Z"
   },
   {
    "duration": 6642,
    "start_time": "2021-10-01T06:56:31.694Z"
   },
   {
    "duration": 12989,
    "start_time": "2021-10-01T06:56:38.338Z"
   },
   {
    "duration": 103,
    "start_time": "2021-10-01T06:56:51.330Z"
   },
   {
    "duration": 7339,
    "start_time": "2021-10-01T06:56:51.436Z"
   },
   {
    "duration": 3,
    "start_time": "2021-10-01T06:56:58.779Z"
   },
   {
    "duration": 19,
    "start_time": "2021-10-01T06:56:58.785Z"
   },
   {
    "duration": 7,
    "start_time": "2021-10-01T06:56:58.823Z"
   },
   {
    "duration": 37,
    "start_time": "2021-10-01T06:56:58.832Z"
   },
   {
    "duration": 6,
    "start_time": "2021-10-01T06:56:58.872Z"
   },
   {
    "duration": 43,
    "start_time": "2021-10-01T06:56:58.880Z"
   },
   {
    "duration": 24,
    "start_time": "2021-10-01T06:56:58.925Z"
   },
   {
    "duration": 22,
    "start_time": "2021-10-01T06:56:58.951Z"
   },
   {
    "duration": 4,
    "start_time": "2021-10-01T07:09:11.097Z"
   },
   {
    "duration": 3,
    "start_time": "2021-10-01T07:09:11.543Z"
   },
   {
    "duration": 28,
    "start_time": "2021-10-01T07:09:13.431Z"
   },
   {
    "duration": 9,
    "start_time": "2021-10-01T07:09:14.293Z"
   },
   {
    "duration": 5,
    "start_time": "2021-10-01T07:09:15.686Z"
   },
   {
    "duration": 9,
    "start_time": "2021-10-01T07:09:16.541Z"
   },
   {
    "duration": 23,
    "start_time": "2021-10-01T07:11:28.901Z"
   },
   {
    "duration": 6842,
    "start_time": "2021-10-01T07:12:40.489Z"
   },
   {
    "duration": 5566,
    "start_time": "2021-10-01T07:13:38.812Z"
   },
   {
    "duration": 5615,
    "start_time": "2021-10-01T07:27:26.555Z"
   },
   {
    "duration": 402,
    "start_time": "2021-10-01T07:27:59.074Z"
   },
   {
    "duration": 293,
    "start_time": "2021-10-01T07:28:44.297Z"
   },
   {
    "duration": 297,
    "start_time": "2021-10-01T07:28:51.755Z"
   },
   {
    "duration": 50,
    "start_time": "2021-10-01T07:29:43.998Z"
   },
   {
    "duration": 7045,
    "start_time": "2021-10-01T07:31:16.671Z"
   },
   {
    "duration": 6638,
    "start_time": "2021-10-01T07:31:58.720Z"
   },
   {
    "duration": 12723,
    "start_time": "2021-10-01T07:33:32.635Z"
   },
   {
    "duration": 10,
    "start_time": "2021-10-01T07:34:02.482Z"
   },
   {
    "duration": 11,
    "start_time": "2021-10-01T07:34:14.034Z"
   },
   {
    "duration": 6549,
    "start_time": "2021-10-01T07:34:31.930Z"
   },
   {
    "duration": 7029,
    "start_time": "2021-10-01T07:34:58.210Z"
   },
   {
    "duration": 6705,
    "start_time": "2021-10-01T07:48:29.841Z"
   },
   {
    "duration": 16,
    "start_time": "2021-10-01T07:49:27.035Z"
   },
   {
    "duration": 6793,
    "start_time": "2021-10-01T07:52:45.262Z"
   },
   {
    "duration": 107,
    "start_time": "2021-10-01T07:53:15.767Z"
   },
   {
    "duration": 23152,
    "start_time": "2021-10-01T07:53:29.927Z"
   },
   {
    "duration": 14232,
    "start_time": "2021-10-01T07:55:20.830Z"
   },
   {
    "duration": 16278,
    "start_time": "2021-10-01T08:08:06.283Z"
   },
   {
    "duration": 130,
    "start_time": "2021-10-01T08:13:18.290Z"
   },
   {
    "duration": 219,
    "start_time": "2021-10-01T08:13:32.400Z"
   },
   {
    "duration": 200,
    "start_time": "2021-10-01T08:14:05.040Z"
   },
   {
    "duration": 199,
    "start_time": "2021-10-01T08:14:35.041Z"
   },
   {
    "duration": 204,
    "start_time": "2021-10-01T08:14:45.631Z"
   },
   {
    "duration": 204,
    "start_time": "2021-10-01T08:14:55.591Z"
   },
   {
    "duration": 47648,
    "start_time": "2021-10-01T08:15:43.518Z"
   },
   {
    "duration": 63577,
    "start_time": "2021-10-01T08:19:18.616Z"
   },
   {
    "duration": 189,
    "start_time": "2021-10-01T08:22:52.420Z"
   },
   {
    "duration": 115483,
    "start_time": "2021-10-01T08:25:34.559Z"
   },
   {
    "duration": 147565,
    "start_time": "2021-10-01T08:28:23.660Z"
   },
   {
    "duration": 351764,
    "start_time": "2021-10-01T08:34:07.268Z"
   },
   {
    "duration": 315,
    "start_time": "2021-10-01T10:58:31.670Z"
   },
   {
    "duration": 5,
    "start_time": "2021-10-01T10:58:42.612Z"
   },
   {
    "duration": 815,
    "start_time": "2021-10-01T10:58:42.625Z"
   },
   {
    "duration": 574,
    "start_time": "2021-10-01T10:58:43.444Z"
   },
   {
    "duration": 9,
    "start_time": "2021-10-01T10:58:44.022Z"
   },
   {
    "duration": 25,
    "start_time": "2021-10-01T10:58:44.034Z"
   },
   {
    "duration": 18,
    "start_time": "2021-10-01T10:58:44.064Z"
   },
   {
    "duration": 73,
    "start_time": "2021-10-01T10:58:44.085Z"
   },
   {
    "duration": 5414,
    "start_time": "2021-10-01T10:58:44.160Z"
   },
   {
    "duration": 128,
    "start_time": "2021-10-01T10:58:49.577Z"
   },
   {
    "duration": 39,
    "start_time": "2021-10-01T10:58:49.708Z"
   },
   {
    "duration": 6412,
    "start_time": "2021-10-01T10:58:49.750Z"
   },
   {
    "duration": 21,
    "start_time": "2021-10-01T10:58:56.165Z"
   },
   {
    "duration": 324915,
    "start_time": "2021-10-01T10:58:56.188Z"
   },
   {
    "duration": 10,
    "start_time": "2021-10-01T11:04:21.105Z"
   },
   {
    "duration": 33,
    "start_time": "2021-10-01T11:04:21.117Z"
   },
   {
    "duration": 83,
    "start_time": "2021-10-01T11:04:21.153Z"
   },
   {
    "duration": 6,
    "start_time": "2021-10-01T11:04:21.238Z"
   },
   {
    "duration": 6020,
    "start_time": "2021-10-01T11:04:21.260Z"
   },
   {
    "duration": 12540,
    "start_time": "2021-10-01T11:04:27.283Z"
   },
   {
    "duration": 102,
    "start_time": "2021-10-01T11:04:39.826Z"
   },
   {
    "duration": 7284,
    "start_time": "2021-10-01T11:04:39.931Z"
   },
   {
    "duration": 4,
    "start_time": "2021-10-01T11:04:47.218Z"
   },
   {
    "duration": 503,
    "start_time": "2021-10-01T11:04:47.225Z"
   },
   {
    "duration": -40,
    "start_time": "2021-10-01T11:04:47.772Z"
   },
   {
    "duration": -41,
    "start_time": "2021-10-01T11:04:47.774Z"
   },
   {
    "duration": -44,
    "start_time": "2021-10-01T11:04:47.780Z"
   },
   {
    "duration": -43,
    "start_time": "2021-10-01T11:04:47.781Z"
   },
   {
    "duration": -43,
    "start_time": "2021-10-01T11:04:47.783Z"
   },
   {
    "duration": -42,
    "start_time": "2021-10-01T11:04:47.784Z"
   },
   {
    "duration": 64388,
    "start_time": "2021-10-01T11:09:44.541Z"
   },
   {
    "duration": 209928,
    "start_time": "2021-10-01T11:12:04.189Z"
   },
   {
    "duration": 97,
    "start_time": "2021-10-01T11:15:50.474Z"
   },
   {
    "duration": 5,
    "start_time": "2021-10-01T11:16:07.939Z"
   },
   {
    "duration": 72,
    "start_time": "2021-10-01T11:16:11.115Z"
   },
   {
    "duration": 6,
    "start_time": "2021-10-01T11:16:11.332Z"
   },
   {
    "duration": 209530,
    "start_time": "2021-10-01T11:22:02.682Z"
   },
   {
    "duration": 75854,
    "start_time": "2021-10-01T11:34:00.840Z"
   },
   {
    "duration": 70176,
    "start_time": "2021-10-01T11:42:05.699Z"
   },
   {
    "duration": 76053,
    "start_time": "2021-10-01T11:44:46.244Z"
   },
   {
    "duration": 77340,
    "start_time": "2021-10-01T11:52:09.793Z"
   },
   {
    "duration": 5,
    "start_time": "2021-10-01T11:55:55.317Z"
   },
   {
    "duration": 805,
    "start_time": "2021-10-01T11:55:55.327Z"
   },
   {
    "duration": 535,
    "start_time": "2021-10-01T11:55:56.135Z"
   },
   {
    "duration": 9,
    "start_time": "2021-10-01T11:55:56.673Z"
   },
   {
    "duration": 14,
    "start_time": "2021-10-01T11:55:56.685Z"
   },
   {
    "duration": 15,
    "start_time": "2021-10-01T11:55:56.701Z"
   },
   {
    "duration": 69,
    "start_time": "2021-10-01T11:55:56.718Z"
   },
   {
    "duration": 5737,
    "start_time": "2021-10-01T11:55:56.790Z"
   },
   {
    "duration": 128,
    "start_time": "2021-10-01T11:56:02.530Z"
   },
   {
    "duration": 38,
    "start_time": "2021-10-01T11:56:02.663Z"
   },
   {
    "duration": 6342,
    "start_time": "2021-10-01T11:56:02.704Z"
   },
   {
    "duration": 18,
    "start_time": "2021-10-01T11:56:09.049Z"
   },
   {
    "duration": 5,
    "start_time": "2021-10-01T12:00:58.987Z"
   },
   {
    "duration": 729,
    "start_time": "2021-10-01T12:00:59.001Z"
   },
   {
    "duration": 589,
    "start_time": "2021-10-01T12:00:59.733Z"
   },
   {
    "duration": 11,
    "start_time": "2021-10-01T12:01:00.327Z"
   },
   {
    "duration": 21,
    "start_time": "2021-10-01T12:01:00.341Z"
   },
   {
    "duration": 27,
    "start_time": "2021-10-01T12:01:00.365Z"
   },
   {
    "duration": 68,
    "start_time": "2021-10-01T12:01:00.395Z"
   },
   {
    "duration": 5608,
    "start_time": "2021-10-01T12:01:00.466Z"
   },
   {
    "duration": 123,
    "start_time": "2021-10-01T12:01:06.077Z"
   },
   {
    "duration": 40,
    "start_time": "2021-10-01T12:01:06.204Z"
   },
   {
    "duration": 6847,
    "start_time": "2021-10-01T12:01:06.248Z"
   },
   {
    "duration": 36,
    "start_time": "2021-10-01T12:01:13.098Z"
   },
   {
    "duration": 342773,
    "start_time": "2021-10-01T12:01:13.137Z"
   },
   {
    "duration": 5,
    "start_time": "2021-10-01T12:06:55.912Z"
   },
   {
    "duration": 83,
    "start_time": "2021-10-01T12:06:55.919Z"
   },
   {
    "duration": 6,
    "start_time": "2021-10-01T12:06:56.004Z"
   },
   {
    "duration": 6181,
    "start_time": "2021-10-01T12:06:56.012Z"
   },
   {
    "duration": 12983,
    "start_time": "2021-10-01T12:07:02.195Z"
   },
   {
    "duration": 99,
    "start_time": "2021-10-01T12:07:15.181Z"
   },
   {
    "duration": 7360,
    "start_time": "2021-10-01T12:07:15.283Z"
   },
   {
    "duration": 13,
    "start_time": "2021-10-01T12:07:22.645Z"
   },
   {
    "duration": 489,
    "start_time": "2021-10-01T12:07:22.661Z"
   },
   {
    "duration": -29,
    "start_time": "2021-10-01T12:07:23.182Z"
   },
   {
    "duration": -29,
    "start_time": "2021-10-01T12:07:23.184Z"
   },
   {
    "duration": -39,
    "start_time": "2021-10-01T12:07:23.196Z"
   },
   {
    "duration": -39,
    "start_time": "2021-10-01T12:07:23.197Z"
   },
   {
    "duration": -38,
    "start_time": "2021-10-01T12:07:23.198Z"
   },
   {
    "duration": -39,
    "start_time": "2021-10-01T12:07:23.200Z"
   },
   {
    "duration": 126,
    "start_time": "2021-10-01T12:14:56.494Z"
   },
   {
    "duration": 13142,
    "start_time": "2021-10-01T12:15:10.388Z"
   },
   {
    "duration": 12642,
    "start_time": "2021-10-01T12:15:44.038Z"
   },
   {
    "duration": 14313,
    "start_time": "2021-10-01T12:16:18.453Z"
   },
   {
    "duration": 87,
    "start_time": "2021-10-01T12:19:18.287Z"
   },
   {
    "duration": 87,
    "start_time": "2021-10-01T12:19:27.852Z"
   },
   {
    "duration": 504,
    "start_time": "2021-10-01T12:22:30.671Z"
   },
   {
    "duration": 465,
    "start_time": "2021-10-01T12:23:02.422Z"
   },
   {
    "duration": 127,
    "start_time": "2021-10-01T12:24:06.450Z"
   },
   {
    "duration": 131,
    "start_time": "2021-10-01T12:37:52.765Z"
   },
   {
    "duration": 204,
    "start_time": "2021-10-01T12:38:25.539Z"
   },
   {
    "duration": 122,
    "start_time": "2021-10-01T12:39:13.513Z"
   },
   {
    "duration": 221,
    "start_time": "2021-10-01T12:40:20.293Z"
   },
   {
    "duration": 197,
    "start_time": "2021-10-01T12:40:32.209Z"
   },
   {
    "duration": 359,
    "start_time": "2021-10-01T12:43:53.175Z"
   },
   {
    "duration": 3808,
    "start_time": "2021-10-01T12:45:14.519Z"
   },
   {
    "duration": 2506,
    "start_time": "2021-10-01T12:45:44.427Z"
   },
   {
    "duration": 12,
    "start_time": "2021-10-01T12:45:55.632Z"
   },
   {
    "duration": 376,
    "start_time": "2021-10-01T12:45:57.130Z"
   },
   {
    "duration": 3,
    "start_time": "2021-10-01T12:47:55.328Z"
   },
   {
    "duration": 1320,
    "start_time": "2021-10-01T12:47:56.261Z"
   },
   {
    "duration": 191,
    "start_time": "2021-10-01T12:48:27.078Z"
   },
   {
    "duration": 1020,
    "start_time": "2021-10-01T12:49:40.727Z"
   },
   {
    "duration": 846,
    "start_time": "2021-10-01T12:50:01.782Z"
   },
   {
    "duration": 1098,
    "start_time": "2021-10-01T12:50:07.213Z"
   },
   {
    "duration": 255,
    "start_time": "2021-10-10T18:51:10.911Z"
   },
   {
    "duration": 993,
    "start_time": "2021-10-10T18:51:31.442Z"
   },
   {
    "duration": 29,
    "start_time": "2021-10-10T18:51:33.551Z"
   },
   {
    "duration": 6,
    "start_time": "2021-10-10T18:51:35.481Z"
   },
   {
    "duration": 4,
    "start_time": "2021-10-10T18:51:39.200Z"
   },
   {
    "duration": 6,
    "start_time": "2021-10-10T18:51:41.601Z"
   },
   {
    "duration": 14,
    "start_time": "2021-10-10T18:51:42.721Z"
   },
   {
    "duration": 4,
    "start_time": "2021-10-10T18:52:05.441Z"
   },
   {
    "duration": 6,
    "start_time": "2021-10-10T18:53:08.949Z"
   },
   {
    "duration": 4,
    "start_time": "2021-10-10T18:53:10.989Z"
   },
   {
    "duration": 3,
    "start_time": "2021-10-10T18:53:46.200Z"
   },
   {
    "duration": 6,
    "start_time": "2021-10-10T18:55:22.281Z"
   },
   {
    "duration": 4,
    "start_time": "2021-10-10T18:55:22.687Z"
   },
   {
    "duration": 42,
    "start_time": "2021-10-10T18:56:28.878Z"
   },
   {
    "duration": 3088,
    "start_time": "2021-10-10T18:56:42.510Z"
   },
   {
    "duration": 89,
    "start_time": "2021-10-10T18:57:14.849Z"
   },
   {
    "duration": 25,
    "start_time": "2021-10-10T18:57:18.107Z"
   },
   {
    "duration": 4547,
    "start_time": "2021-10-10T18:57:24.783Z"
   },
   {
    "duration": 11,
    "start_time": "2021-10-10T18:57:46.385Z"
   },
   {
    "duration": 38579,
    "start_time": "2021-10-10T18:57:49.693Z"
   },
   {
    "duration": 48,
    "start_time": "2021-10-10T19:02:04.682Z"
   },
   {
    "duration": 7341,
    "start_time": "2021-10-10T19:02:42.593Z"
   },
   {
    "duration": 75,
    "start_time": "2021-10-10T19:03:55.977Z"
   },
   {
    "duration": 103,
    "start_time": "2021-10-10T19:03:58.230Z"
   },
   {
    "duration": 79,
    "start_time": "2021-10-10T19:04:01.061Z"
   },
   {
    "duration": 113,
    "start_time": "2021-10-10T19:04:02.412Z"
   },
   {
    "duration": 1427,
    "start_time": "2021-10-11T05:46:48.628Z"
   },
   {
    "duration": 40,
    "start_time": "2021-10-11T05:46:50.058Z"
   },
   {
    "duration": 9,
    "start_time": "2021-10-11T05:46:50.102Z"
   },
   {
    "duration": 14,
    "start_time": "2021-10-11T05:46:50.114Z"
   },
   {
    "duration": 32,
    "start_time": "2021-10-11T05:46:50.130Z"
   },
   {
    "duration": 16,
    "start_time": "2021-10-11T05:46:50.164Z"
   },
   {
    "duration": 70,
    "start_time": "2021-10-11T05:46:50.182Z"
   },
   {
    "duration": 4675,
    "start_time": "2021-10-11T05:46:50.255Z"
   },
   {
    "duration": 130,
    "start_time": "2021-10-11T05:46:54.933Z"
   },
   {
    "duration": 41,
    "start_time": "2021-10-11T05:46:55.065Z"
   },
   {
    "duration": 6353,
    "start_time": "2021-10-11T05:46:55.109Z"
   },
   {
    "duration": 18,
    "start_time": "2021-10-11T05:47:01.464Z"
   },
   {
    "duration": 56126,
    "start_time": "2021-10-11T05:47:01.484Z"
   },
   {
    "duration": 74,
    "start_time": "2021-10-11T05:47:57.612Z"
   },
   {
    "duration": 11217,
    "start_time": "2021-10-11T05:47:57.688Z"
   },
   {
    "duration": 107,
    "start_time": "2021-10-11T05:48:08.908Z"
   },
   {
    "duration": 163,
    "start_time": "2021-10-11T05:48:09.018Z"
   },
   {
    "duration": 104,
    "start_time": "2021-10-11T05:48:09.184Z"
   },
   {
    "duration": 125,
    "start_time": "2021-10-11T05:48:09.291Z"
   },
   {
    "duration": 162,
    "start_time": "2021-10-11T05:48:09.418Z"
   },
   {
    "duration": 5,
    "start_time": "2021-10-11T05:48:09.583Z"
   },
   {
    "duration": 183,
    "start_time": "2021-10-11T05:48:09.590Z"
   },
   {
    "duration": 9,
    "start_time": "2021-10-11T05:49:47.673Z"
   },
   {
    "duration": 5,
    "start_time": "2021-10-11T05:50:01.531Z"
   },
   {
    "duration": 122,
    "start_time": "2021-10-11T05:54:03.434Z"
   },
   {
    "duration": 5,
    "start_time": "2021-10-11T07:03:52.116Z"
   },
   {
    "duration": 10,
    "start_time": "2021-10-11T07:07:18.387Z"
   },
   {
    "duration": 9,
    "start_time": "2021-10-11T07:08:14.862Z"
   },
   {
    "duration": 11,
    "start_time": "2021-10-11T07:09:04.861Z"
   },
   {
    "duration": 8,
    "start_time": "2021-10-11T07:09:11.090Z"
   },
   {
    "duration": 10,
    "start_time": "2021-10-11T07:09:32.904Z"
   },
   {
    "duration": 8,
    "start_time": "2021-10-11T07:10:39.925Z"
   },
   {
    "duration": 9,
    "start_time": "2021-10-11T07:11:00.225Z"
   },
   {
    "duration": 110,
    "start_time": "2021-10-11T07:37:03.065Z"
   },
   {
    "duration": 685,
    "start_time": "2021-10-11T07:38:13.040Z"
   },
   {
    "duration": 9,
    "start_time": "2021-10-11T07:39:34.176Z"
   },
   {
    "duration": 10,
    "start_time": "2021-10-11T07:39:49.532Z"
   },
   {
    "duration": 1294,
    "start_time": "2021-10-11T07:41:50.455Z"
   },
   {
    "duration": 39,
    "start_time": "2021-10-11T07:41:51.751Z"
   },
   {
    "duration": 9,
    "start_time": "2021-10-11T07:41:51.793Z"
   },
   {
    "duration": 11,
    "start_time": "2021-10-11T07:41:51.804Z"
   },
   {
    "duration": 11,
    "start_time": "2021-10-11T07:41:51.817Z"
   },
   {
    "duration": 5,
    "start_time": "2021-10-11T07:41:51.830Z"
   },
   {
    "duration": 24,
    "start_time": "2021-10-11T07:41:51.837Z"
   },
   {
    "duration": 61,
    "start_time": "2021-10-11T07:41:51.864Z"
   },
   {
    "duration": 4787,
    "start_time": "2021-10-11T07:41:51.929Z"
   },
   {
    "duration": 128,
    "start_time": "2021-10-11T07:41:56.719Z"
   },
   {
    "duration": 42,
    "start_time": "2021-10-11T07:41:56.850Z"
   },
   {
    "duration": 6705,
    "start_time": "2021-10-11T07:41:56.894Z"
   },
   {
    "duration": 20,
    "start_time": "2021-10-11T07:42:03.601Z"
   },
   {
    "duration": 60171,
    "start_time": "2021-10-11T07:42:03.623Z"
   },
   {
    "duration": 69,
    "start_time": "2021-10-11T07:43:03.797Z"
   },
   {
    "duration": 10637,
    "start_time": "2021-10-11T07:43:03.868Z"
   },
   {
    "duration": 100,
    "start_time": "2021-10-11T07:43:14.508Z"
   },
   {
    "duration": 166,
    "start_time": "2021-10-11T07:43:14.611Z"
   },
   {
    "duration": 114,
    "start_time": "2021-10-11T07:43:14.779Z"
   },
   {
    "duration": 176,
    "start_time": "2021-10-11T07:43:14.895Z"
   },
   {
    "duration": 172,
    "start_time": "2021-10-11T07:43:15.073Z"
   },
   {
    "duration": 7,
    "start_time": "2021-10-11T07:43:15.247Z"
   },
   {
    "duration": 200,
    "start_time": "2021-10-11T07:43:15.258Z"
   },
   {
    "duration": 11,
    "start_time": "2021-10-11T07:43:15.461Z"
   }
  ],
  "kernelspec": {
   "display_name": "Python 3",
   "language": "python",
   "name": "python3"
  },
  "language_info": {
   "codemirror_mode": {
    "name": "ipython",
    "version": 3
   },
   "file_extension": ".py",
   "mimetype": "text/x-python",
   "name": "python",
   "nbconvert_exporter": "python",
   "pygments_lexer": "ipython3",
   "version": "3.7.8"
  },
  "toc": {
   "base_numbering": 1,
   "nav_menu": {},
   "number_sections": true,
   "sideBar": true,
   "skip_h1_title": true,
   "title_cell": "Table of Contents",
   "title_sidebar": "Contents",
   "toc_cell": false,
   "toc_position": {},
   "toc_section_display": true,
   "toc_window_display": false
  }
 },
 "nbformat": 4,
 "nbformat_minor": 2
}
