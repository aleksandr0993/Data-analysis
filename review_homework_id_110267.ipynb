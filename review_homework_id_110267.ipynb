{
 "cells": [
  {
   "cell_type": "markdown",
   "metadata": {},
   "source": [
    "<div style=\"border:solid green 2px; padding: 20px\">\n",
    "<b>Александр, привет!</b>\n",
    "\n",
    "Меня зовут Марина К, и я буду проверять твой проект. Предлагаю общаться на «ты» :) Но если это не удобно - дай мне знать, и мы перейдем на «вы». \n",
    "\n",
    "Ты проделал большую работу над проектом, но давай сделаем его еще лучше! Ниже ты найдешь мои комментарии - пожалуйста, не перемещай, не изменяй и не удаляй их. Я буду использовать цветовую разметку:\n",
    "\n",
    "<div class=\"alert alert-danger\">\n",
    "<b>Комментарии ревьюера:</b> Так выделены самые важные замечания. Без их отработки проект не будет принят. </div>\n",
    "\n",
    "<div class=\"alert alert-warning\">\n",
    "<b>Комментарии ревьюера:</b> Так выделены небольшие замечания. Одно-два таких замечания в проекте допустимы, но если их будет больше - тебе будет необходимо внести исправления.  </div>\n",
    "\n",
    "<div class=\"alert alert-success\">\n",
    "<b>Комментарии ревьюера:</b> Так я выделяю все остальные комментарии, твои удачные решения, комментарии по твоим промежуточным выводам и даю подсказки, как можно улучшить твоё решение.</div>\n",
    "\n",
    "Давай работать над проектом в диалоге: если ты что-то меняешь в проекте или отвечаешь на мои комментарии — пиши об этом. Мне будет легче отследить изменения, если ты выделишь свои комментарии:\n",
    "<div class=\"alert alert-info\"> <b>Комментарии студента:</b> Марина, привет! Спасибо за замечание) Действительно, из-за неверного формата даты, отрисовка некоторых графиков выдавала ошибку. Я исправил код с изменением типа даты.</div>\n",
    "\n",
    "Всё это поможет выполнить повторную проверку твоего проекта оперативнее. Если будут какие-нибудь вопросы по моим комментариям, пиши, будем разбираться вместе :)"
   ]
  },
  {
   "cell_type": "markdown",
   "metadata": {},
   "source": [
    "<div style=\"border:solid green 2px; padding: 20px\">\n",
    "<s>Апдейт после проверки: я запустила твой код, но некоторые блоки кода не работают. Посмотри, пожалуйста, что пошло не так. Перед отправкой проекта стоит проверять работоспособность кода - это можно сделать, нажав на панели Jupiter Hub Kernel и Restart & Run All.\n",
    "    \n",
    "Буду ждать твою работу на повторное ревью! </s> Здорово, что удалось разобраться!"
   ]
  },
  {
   "cell_type": "markdown",
   "metadata": {},
   "source": [
    "Откройте файл с данными и изучите общую информацию."
   ]
  },
  {
   "cell_type": "markdown",
   "metadata": {},
   "source": [
    "<div class=\"alert alert-warning\">\n",
    "<b>Комментарии ревьюера V2:</b> <s>Стоит немного поработать над введением в проект. Это очень важно, ты знакомишь читателя со своей работой. Можно сделать краткое описание проекта, отдельно выделить цель, описать исходные данные и сделать план.  </s>\n",
    "\n",
    "Очень хорошо! \n",
    "</div>"
   ]
  },
  {
   "cell_type": "markdown",
   "metadata": {},
   "source": [
    "# <a name=\"0.0\"></a>Содержание проекта:\n",
    "\n",
    "* [0. Описание проекта и данных, постановка цели, импорт библиотек](#0.)\n",
    "* [1. Ознакомление с данными:](#1.)\n",
    "     - Чтение датасета games и вывод первых 10-ти строк;\n",
    "     - Определение типов данных в столбцах и поиск пропусков;\n",
    "     - Вывод статистики по числовым признакам;\n",
    "* [2. Подготовка данных:](#2.)\n",
    "     - Приведение названий столбцов к нижнему регистру;\n",
    "     - Просмотр уникальных значений столбца user_score и последующее изменение в нем типа данных на float;\n",
    "     - Обработка пропусков в остальных столбцах, поиск дубликатов;       \n",
    "     - Подсчет суммарных продаж по всем регионам и запись их в отдельный столбец, проверка вывода;\n",
    "* [3. Исследовательский анализ данных:](#3.)\n",
    "     - Функция для прорисовки bar-графиков;\n",
    "     - Нахождение количества выпущенных игр по годам;\n",
    "     - Нахождение количества выпущенных игр по платформам;    \n",
    "     - Динамика продаж игр по платформам;\n",
    "     - Функция для прорисовки графиков;\n",
    "     - График динамики продаж по годам по каждой платформе;\n",
    "     - График динамики продаж по годам по топ-6 платформ;\n",
    "     - Динамика продаж игр в наше время;\n",
    "     - Boxplot по глобальным продажам игр и с разбивкой по платформам ;    \n",
    "     - Функция для прорисовки boxplot;\n",
    "     - Boxplot по глобальным продажам игр;\n",
    "     - Boxplot по наиболее популярным на конец 2016 года платформам ;   \n",
    "     - Влияние отзывов пользователей и критиков на продажи  ;   \n",
    "     - Диаграмма рассеяния зависимости общей суммы продаж игры от отзывов критиков;\n",
    "     - Матрица корреляции;\n",
    "     - Данные по корреляции по топовым платформам;        \n",
    "     - Распределение игр по жанрам;  \n",
    "* [4. Портрет пользователя регионов NA, EU, JP:](#4.)\n",
    "     - Функция для прорисовки графиков top_in_regions_plot;\n",
    "     - Определение самых популярных платформ в заданных регионах;\n",
    "     - Определение самых популярных жанров в заданных регионах;      \n",
    "     - Влияние рейтинга ESRB на продажи в отдельном регионе;\n",
    "* [5. Исследование статистических показателей](#5.)\n",
    "     - Как изменяется пользовательский рейтинг и рейтинг критиков в различных жанрах;\n",
    "     - Среднее количество, дисперсия и стандартное отклонения; \n",
    "     - Гистограммы и распределения;\n",
    "* [6. Проверка гипотез:](#6.)\n",
    "     - Гипотеза № 1 (о равенстве средних пользовательских рейтингов на XBox One и PC);\n",
    "     - Гипотеза № 2 (о равенстве средних пользовательских рейтингов жанров Action и Sports);\n",
    "* [7. Общий вывод](#7.)"
   ]
  },
  {
   "cell_type": "markdown",
   "metadata": {},
   "source": [
    "# 0. Описание проекта<a name=\"0.\"></a>\n",
    "<font size=\"2\">([к содержанию](#0.0))</font>"
   ]
  },
  {
   "cell_type": "markdown",
   "metadata": {},
   "source": [
    "Вы работаете в интернет-магазине «Стримчик», который продаёт по всему миру компьютерные игры. Из открытых источников доступны исторические данные о продажах игр, оценки пользователей и экспертов, жанры и платформы (например, Xbox или PlayStation). Вам нужно выявить определяющие успешность игры закономерности. Это позволит сделать ставку на потенциально популярный продукт и спланировать рекламные кампании.\n",
    "Перед вами данные до 2016 года. Представим, что сейчас декабрь 2016 г., и вы планируете кампанию на 2017-й. Нужно отработать принцип работы с данными. Не важно, прогнозируете ли вы продажи на 2017 год по данным 2016-го или же 2027-й — по данным 2026 года."
   ]
  },
  {
   "cell_type": "markdown",
   "metadata": {},
   "source": [
    "# Описание данных games.csv\n",
    "\n",
    "* Name — название игры\n",
    "* Platform — платформа\n",
    "* Year_of_Release — год выпуска\n",
    "* Genre — жанр игры\n",
    "* NA_sales — продажи в Северной Америке (миллионы долларов)\n",
    "* EU_sales — продажи в Европе (миллионы долларов)\n",
    "* JP_sales — продажи в Японии (миллионы долларов)\n",
    "* Other_sales — продажи в других странах (миллионы долларов)\n",
    "* Critic_Score — оценка критиков (от 0 до 100)\n",
    "* User_Score — оценка пользователей (от 0 до 10)\n",
    "* Rating — рейтинг от организации ESRB (англ. Entertainment Software Rating Board). Эта ассоциация определяет рейтинг компьютерных игр и присваивает им подходящую возрастную категорию.\n",
    "\n",
    "Данные за 2016 год могут быть неполными."
   ]
  },
  {
   "cell_type": "markdown",
   "metadata": {},
   "source": [
    "# Цель:  Выявить определяющие успешность игры закономерности, спланировать рекламные кампании."
   ]
  },
  {
   "cell_type": "markdown",
   "metadata": {},
   "source": [
    "Импортируем нужные библиотеки."
   ]
  },
  {
   "cell_type": "code",
   "execution_count": 1,
   "metadata": {},
   "outputs": [],
   "source": [
    "import pandas as pd\n",
    "import numpy as np\n",
    "from datetime import datetime\n",
    "import matplotlib.pyplot as plt\n",
    "import warnings\n",
    "warnings.simplefilter('ignore')\n",
    "from scipy.stats import ttest_ind\n",
    "from scipy import stats as st\n",
    "import seaborn as sns\n",
    "\n",
    "pd.set_option('display.max_columns', None)\n",
    "pd.options.display.float_format = '{:,.2f}'.format\n",
    "fontd = {'family': 'serif',\n",
    "        'color':  'darkred',\n",
    "        'weight': 'normal',\n",
    "        'size': 25,\n",
    "        }"
   ]
  },
  {
   "cell_type": "markdown",
   "metadata": {},
   "source": [
    "<br/><a name=\"1.\"></a>\n",
    "# 1. Ознакомление с данными\n",
    "<font size=\"1\">([к содержанию](#0.0))</font>"
   ]
  },
  {
   "cell_type": "markdown",
   "metadata": {},
   "source": [
    "- Прочитаем датасет games и выведем его первые 10 строк."
   ]
  },
  {
   "cell_type": "code",
   "execution_count": 2,
   "metadata": {},
   "outputs": [
    {
     "ename": "FileNotFoundError",
     "evalue": "[Errno 2] No such file or directory: '/datasets/games.csv'",
     "output_type": "error",
     "traceback": [
      "\u001b[0;31m---------------------------------------------------------------------------\u001b[0m",
      "\u001b[0;31mFileNotFoundError\u001b[0m                         Traceback (most recent call last)",
      "\u001b[0;32m<ipython-input-2-5d3d1482df96>\u001b[0m in \u001b[0;36m<module>\u001b[0;34m\u001b[0m\n\u001b[0;32m----> 1\u001b[0;31m \u001b[0mgames\u001b[0m \u001b[0;34m=\u001b[0m \u001b[0mpd\u001b[0m\u001b[0;34m.\u001b[0m\u001b[0mread_csv\u001b[0m\u001b[0;34m(\u001b[0m\u001b[0;34m'/datasets/games.csv'\u001b[0m\u001b[0;34m)\u001b[0m\u001b[0;34m\u001b[0m\u001b[0;34m\u001b[0m\u001b[0m\n\u001b[0m\u001b[1;32m      2\u001b[0m \u001b[0mgames\u001b[0m\u001b[0;34m.\u001b[0m\u001b[0mhead\u001b[0m\u001b[0;34m(\u001b[0m\u001b[0;36m10\u001b[0m\u001b[0;34m)\u001b[0m\u001b[0;34m\u001b[0m\u001b[0;34m\u001b[0m\u001b[0m\n",
      "\u001b[0;32m~/opt/anaconda3/lib/python3.8/site-packages/pandas/io/parsers.py\u001b[0m in \u001b[0;36mread_csv\u001b[0;34m(filepath_or_buffer, sep, delimiter, header, names, index_col, usecols, squeeze, prefix, mangle_dupe_cols, dtype, engine, converters, true_values, false_values, skipinitialspace, skiprows, skipfooter, nrows, na_values, keep_default_na, na_filter, verbose, skip_blank_lines, parse_dates, infer_datetime_format, keep_date_col, date_parser, dayfirst, cache_dates, iterator, chunksize, compression, thousands, decimal, lineterminator, quotechar, quoting, doublequote, escapechar, comment, encoding, dialect, error_bad_lines, warn_bad_lines, delim_whitespace, low_memory, memory_map, float_precision)\u001b[0m\n\u001b[1;32m    684\u001b[0m     )\n\u001b[1;32m    685\u001b[0m \u001b[0;34m\u001b[0m\u001b[0m\n\u001b[0;32m--> 686\u001b[0;31m     \u001b[0;32mreturn\u001b[0m \u001b[0m_read\u001b[0m\u001b[0;34m(\u001b[0m\u001b[0mfilepath_or_buffer\u001b[0m\u001b[0;34m,\u001b[0m \u001b[0mkwds\u001b[0m\u001b[0;34m)\u001b[0m\u001b[0;34m\u001b[0m\u001b[0;34m\u001b[0m\u001b[0m\n\u001b[0m\u001b[1;32m    687\u001b[0m \u001b[0;34m\u001b[0m\u001b[0m\n\u001b[1;32m    688\u001b[0m \u001b[0;34m\u001b[0m\u001b[0m\n",
      "\u001b[0;32m~/opt/anaconda3/lib/python3.8/site-packages/pandas/io/parsers.py\u001b[0m in \u001b[0;36m_read\u001b[0;34m(filepath_or_buffer, kwds)\u001b[0m\n\u001b[1;32m    450\u001b[0m \u001b[0;34m\u001b[0m\u001b[0m\n\u001b[1;32m    451\u001b[0m     \u001b[0;31m# Create the parser.\u001b[0m\u001b[0;34m\u001b[0m\u001b[0;34m\u001b[0m\u001b[0;34m\u001b[0m\u001b[0m\n\u001b[0;32m--> 452\u001b[0;31m     \u001b[0mparser\u001b[0m \u001b[0;34m=\u001b[0m \u001b[0mTextFileReader\u001b[0m\u001b[0;34m(\u001b[0m\u001b[0mfp_or_buf\u001b[0m\u001b[0;34m,\u001b[0m \u001b[0;34m**\u001b[0m\u001b[0mkwds\u001b[0m\u001b[0;34m)\u001b[0m\u001b[0;34m\u001b[0m\u001b[0;34m\u001b[0m\u001b[0m\n\u001b[0m\u001b[1;32m    453\u001b[0m \u001b[0;34m\u001b[0m\u001b[0m\n\u001b[1;32m    454\u001b[0m     \u001b[0;32mif\u001b[0m \u001b[0mchunksize\u001b[0m \u001b[0;32mor\u001b[0m \u001b[0miterator\u001b[0m\u001b[0;34m:\u001b[0m\u001b[0;34m\u001b[0m\u001b[0;34m\u001b[0m\u001b[0m\n",
      "\u001b[0;32m~/opt/anaconda3/lib/python3.8/site-packages/pandas/io/parsers.py\u001b[0m in \u001b[0;36m__init__\u001b[0;34m(self, f, engine, **kwds)\u001b[0m\n\u001b[1;32m    944\u001b[0m             \u001b[0mself\u001b[0m\u001b[0;34m.\u001b[0m\u001b[0moptions\u001b[0m\u001b[0;34m[\u001b[0m\u001b[0;34m\"has_index_names\"\u001b[0m\u001b[0;34m]\u001b[0m \u001b[0;34m=\u001b[0m \u001b[0mkwds\u001b[0m\u001b[0;34m[\u001b[0m\u001b[0;34m\"has_index_names\"\u001b[0m\u001b[0;34m]\u001b[0m\u001b[0;34m\u001b[0m\u001b[0;34m\u001b[0m\u001b[0m\n\u001b[1;32m    945\u001b[0m \u001b[0;34m\u001b[0m\u001b[0m\n\u001b[0;32m--> 946\u001b[0;31m         \u001b[0mself\u001b[0m\u001b[0;34m.\u001b[0m\u001b[0m_make_engine\u001b[0m\u001b[0;34m(\u001b[0m\u001b[0mself\u001b[0m\u001b[0;34m.\u001b[0m\u001b[0mengine\u001b[0m\u001b[0;34m)\u001b[0m\u001b[0;34m\u001b[0m\u001b[0;34m\u001b[0m\u001b[0m\n\u001b[0m\u001b[1;32m    947\u001b[0m \u001b[0;34m\u001b[0m\u001b[0m\n\u001b[1;32m    948\u001b[0m     \u001b[0;32mdef\u001b[0m \u001b[0mclose\u001b[0m\u001b[0;34m(\u001b[0m\u001b[0mself\u001b[0m\u001b[0;34m)\u001b[0m\u001b[0;34m:\u001b[0m\u001b[0;34m\u001b[0m\u001b[0;34m\u001b[0m\u001b[0m\n",
      "\u001b[0;32m~/opt/anaconda3/lib/python3.8/site-packages/pandas/io/parsers.py\u001b[0m in \u001b[0;36m_make_engine\u001b[0;34m(self, engine)\u001b[0m\n\u001b[1;32m   1176\u001b[0m     \u001b[0;32mdef\u001b[0m \u001b[0m_make_engine\u001b[0m\u001b[0;34m(\u001b[0m\u001b[0mself\u001b[0m\u001b[0;34m,\u001b[0m \u001b[0mengine\u001b[0m\u001b[0;34m=\u001b[0m\u001b[0;34m\"c\"\u001b[0m\u001b[0;34m)\u001b[0m\u001b[0;34m:\u001b[0m\u001b[0;34m\u001b[0m\u001b[0;34m\u001b[0m\u001b[0m\n\u001b[1;32m   1177\u001b[0m         \u001b[0;32mif\u001b[0m \u001b[0mengine\u001b[0m \u001b[0;34m==\u001b[0m \u001b[0;34m\"c\"\u001b[0m\u001b[0;34m:\u001b[0m\u001b[0;34m\u001b[0m\u001b[0;34m\u001b[0m\u001b[0m\n\u001b[0;32m-> 1178\u001b[0;31m             \u001b[0mself\u001b[0m\u001b[0;34m.\u001b[0m\u001b[0m_engine\u001b[0m \u001b[0;34m=\u001b[0m \u001b[0mCParserWrapper\u001b[0m\u001b[0;34m(\u001b[0m\u001b[0mself\u001b[0m\u001b[0;34m.\u001b[0m\u001b[0mf\u001b[0m\u001b[0;34m,\u001b[0m \u001b[0;34m**\u001b[0m\u001b[0mself\u001b[0m\u001b[0;34m.\u001b[0m\u001b[0moptions\u001b[0m\u001b[0;34m)\u001b[0m\u001b[0;34m\u001b[0m\u001b[0;34m\u001b[0m\u001b[0m\n\u001b[0m\u001b[1;32m   1179\u001b[0m         \u001b[0;32melse\u001b[0m\u001b[0;34m:\u001b[0m\u001b[0;34m\u001b[0m\u001b[0;34m\u001b[0m\u001b[0m\n\u001b[1;32m   1180\u001b[0m             \u001b[0;32mif\u001b[0m \u001b[0mengine\u001b[0m \u001b[0;34m==\u001b[0m \u001b[0;34m\"python\"\u001b[0m\u001b[0;34m:\u001b[0m\u001b[0;34m\u001b[0m\u001b[0;34m\u001b[0m\u001b[0m\n",
      "\u001b[0;32m~/opt/anaconda3/lib/python3.8/site-packages/pandas/io/parsers.py\u001b[0m in \u001b[0;36m__init__\u001b[0;34m(self, src, **kwds)\u001b[0m\n\u001b[1;32m   2006\u001b[0m         \u001b[0mkwds\u001b[0m\u001b[0;34m[\u001b[0m\u001b[0;34m\"usecols\"\u001b[0m\u001b[0;34m]\u001b[0m \u001b[0;34m=\u001b[0m \u001b[0mself\u001b[0m\u001b[0;34m.\u001b[0m\u001b[0musecols\u001b[0m\u001b[0;34m\u001b[0m\u001b[0;34m\u001b[0m\u001b[0m\n\u001b[1;32m   2007\u001b[0m \u001b[0;34m\u001b[0m\u001b[0m\n\u001b[0;32m-> 2008\u001b[0;31m         \u001b[0mself\u001b[0m\u001b[0;34m.\u001b[0m\u001b[0m_reader\u001b[0m \u001b[0;34m=\u001b[0m \u001b[0mparsers\u001b[0m\u001b[0;34m.\u001b[0m\u001b[0mTextReader\u001b[0m\u001b[0;34m(\u001b[0m\u001b[0msrc\u001b[0m\u001b[0;34m,\u001b[0m \u001b[0;34m**\u001b[0m\u001b[0mkwds\u001b[0m\u001b[0;34m)\u001b[0m\u001b[0;34m\u001b[0m\u001b[0;34m\u001b[0m\u001b[0m\n\u001b[0m\u001b[1;32m   2009\u001b[0m         \u001b[0mself\u001b[0m\u001b[0;34m.\u001b[0m\u001b[0munnamed_cols\u001b[0m \u001b[0;34m=\u001b[0m \u001b[0mself\u001b[0m\u001b[0;34m.\u001b[0m\u001b[0m_reader\u001b[0m\u001b[0;34m.\u001b[0m\u001b[0munnamed_cols\u001b[0m\u001b[0;34m\u001b[0m\u001b[0;34m\u001b[0m\u001b[0m\n\u001b[1;32m   2010\u001b[0m \u001b[0;34m\u001b[0m\u001b[0m\n",
      "\u001b[0;32mpandas/_libs/parsers.pyx\u001b[0m in \u001b[0;36mpandas._libs.parsers.TextReader.__cinit__\u001b[0;34m()\u001b[0m\n",
      "\u001b[0;32mpandas/_libs/parsers.pyx\u001b[0m in \u001b[0;36mpandas._libs.parsers.TextReader._setup_parser_source\u001b[0;34m()\u001b[0m\n",
      "\u001b[0;31mFileNotFoundError\u001b[0m: [Errno 2] No such file or directory: '/datasets/games.csv'"
     ]
    }
   ],
   "source": [
    "games = pd.read_csv('/datasets/games.csv')\n",
    "games.head(10)"
   ]
  },
  {
   "cell_type": "markdown",
   "metadata": {},
   "source": [
    "- Общая информация о датафрейме: смотрим пропуски и типы данных столбцов\n"
   ]
  },
  {
   "cell_type": "code",
   "execution_count": null,
   "metadata": {},
   "outputs": [],
   "source": [
    "games.info()"
   ]
  },
  {
   "cell_type": "markdown",
   "metadata": {},
   "source": [
    "Видим много пропусков, больше всего из в \"Critic_Score\" и \"Rating\".\n",
    "Выведем статистики по числовым признакам."
   ]
  },
  {
   "cell_type": "code",
   "execution_count": null,
   "metadata": {},
   "outputs": [],
   "source": [
    "games.describe()"
   ]
  },
  {
   "cell_type": "markdown",
   "metadata": {},
   "source": [
    "<div class=\"alert alert-block alert-success\">\n",
    "<b>Комментарии ревьюера V2: </b>\n",
    "\n",
    "Здесь всё хорошо. Ты корректно загрузил данные и посмотрел их содержимое. Здорово, что не забыл про такой инструмент как describe(). \n",
    "</div>"
   ]
  },
  {
   "cell_type": "markdown",
   "metadata": {},
   "source": [
    "# 2. Подготовка данных<a name=\"2.\"></a>\n",
    "<font size=\"2\">([к содержанию](#0.0))</font>\n",
    "\n",
    "Замените названия столбцов (приведите к нижнему регистру);\n",
    "Преобразуйте данные в нужные типы. Опишите, в каких столбцах заменили тип данных и почему;\n",
    "Обработайте пропуски при необходимости:\n",
    "Объясните, почему заполнили пропуски определённым образом или почему не стали это делать;\n",
    "Опишите причины, которые могли привести к пропускам;\n",
    "Обратите внимание на аббревиатуру 'tbd' в столбцах с рейтингом. Поясните, как обработать это значение.\n",
    "Посчитайте суммарные продажи во всех регионах и запишите их в отдельный столбец."
   ]
  },
  {
   "cell_type": "markdown",
   "metadata": {},
   "source": [
    "- Приведем названия столбцов к нижнему регистру:"
   ]
  },
  {
   "cell_type": "code",
   "execution_count": null,
   "metadata": {},
   "outputs": [],
   "source": [
    "games.columns = games.columns.str.lower()"
   ]
  },
  {
   "cell_type": "markdown",
   "metadata": {},
   "source": [
    "- Обработаем пропуски, начнем с user_score, его формат - object. Посмотрим на его уникальные значения::"
   ]
  },
  {
   "cell_type": "code",
   "execution_count": null,
   "metadata": {},
   "outputs": [],
   "source": [
    "games['user_score'].unique()"
   ]
  },
  {
   "cell_type": "markdown",
   "metadata": {},
   "source": [
    "Видим кроме NaN еще и 'tbd'. Посчитаем, сколько их всего:"
   ]
  },
  {
   "cell_type": "code",
   "execution_count": null,
   "metadata": {},
   "outputs": [],
   "source": [
    "games[games['user_score'] == 'tbd']['user_score'].value_counts()"
   ]
  },
  {
   "cell_type": "markdown",
   "metadata": {},
   "source": [
    "Более двух тысяч, почистим их и приведем к типу 'float'."
   ]
  },
  {
   "cell_type": "code",
   "execution_count": null,
   "metadata": {},
   "outputs": [],
   "source": [
    "games['user_score'] = games['user_score'].replace('tbd', np.NaN)\n",
    "games['user_score'] = games['user_score'].astype('float')"
   ]
  },
  {
   "cell_type": "markdown",
   "metadata": {},
   "source": [
    "<div class=\"alert alert-block alert-success\">\n",
    "<b>Комментарии ревьюера V2: </b>\n",
    "\n",
    "Отличное решение!\n",
    "</div>"
   ]
  },
  {
   "cell_type": "markdown",
   "metadata": {},
   "source": [
    "У столбцов critic_score и user_score заменим пропущенные значения, как -1."
   ]
  },
  {
   "cell_type": "code",
   "execution_count": null,
   "metadata": {},
   "outputs": [],
   "source": [
    "games['critic_score'] = games['critic_score'].fillna(-1)\n",
    "games['user_score'] = games['user_score'].fillna(-1)"
   ]
  },
  {
   "cell_type": "markdown",
   "metadata": {},
   "source": [
    "<div class=\"alert alert-block alert-success\">\n",
    "<b>Комментарии ревьюера V2: </b>\n",
    "\n",
    "Ты заполнил пропуски в этих столбцах маркером, это верное решение. Вообще здесь можно было и оставить пропуски. Оценки критиков и пользователей могли быть пропущены, так как игра никого не заинтересовала и на рынке особо не освещалась. Также можно обратить внимание, что оценка критиков, пользователей и рейтинг часто отсутствуют вместе - возможно, информация в датасет просто не была добавлена. Т.е. можно предположить, что у нас просто пропущена информация по некоторым играм. А это уже не пропуски, а неполная информация, любое числовое заполение (медианой и тд) будет некорректным. \n",
    "</div>"
   ]
  },
  {
   "cell_type": "markdown",
   "metadata": {},
   "source": [
    "<div class=\"alert alert-info\"> <b>Комментарии студента:</b> Заплним пропуски близкой датой из будущего - 2027 годом (медиану не стал использовать, ради чистоты подсчедов). Далее приведем формат даты к правильному формату , строка длиной в 4 символа. Для интереса посмотрим на топ года по количеству релизов и заодно проверим формат дат.</div>"
   ]
  },
  {
   "cell_type": "code",
   "execution_count": null,
   "metadata": {},
   "outputs": [],
   "source": [
    "games['year_of_release'] = games['year_of_release'].fillna(2027)\n",
    "games['year_of_release'] = games['year_of_release'].astype('int')"
   ]
  },
  {
   "cell_type": "markdown",
   "metadata": {},
   "source": [
    "<div class=\"alert alert-block alert-success\">\n",
    "<b>Комментарии ревьюера V2: </b>\n",
    "\n",
    "Здесь тоже заполнение маркером корректно, но в будущих расчетах, когда мы будем делать срез данных для актуального периода, эти данные нужно будет убирать. Вообще здесь также можно было оставить пропуски. Заполнение год релиза по названию игры будет содержать ошибки (будут артефакты типо 2077), заполнять по названию игры с другой платформы так же ошибочно (выход одной и той же игры на разных платформах может разделять и несколько лет.).\n",
    "</div>"
   ]
  },
  {
   "cell_type": "code",
   "execution_count": null,
   "metadata": {},
   "outputs": [],
   "source": [
    "games['year_of_release'].value_counts().head()"
   ]
  },
  {
   "cell_type": "markdown",
   "metadata": {},
   "source": [
    "Поищем дубликаты:"
   ]
  },
  {
   "cell_type": "code",
   "execution_count": null,
   "metadata": {},
   "outputs": [],
   "source": [
    "games.duplicated().sum()"
   ]
  },
  {
   "cell_type": "markdown",
   "metadata": {},
   "source": [
    "Найдем и обработаем остальные пропуски:"
   ]
  },
  {
   "cell_type": "code",
   "execution_count": null,
   "metadata": {},
   "outputs": [],
   "source": [
    "games.isnull().sum().sort_values(ascending = False) / games.shape[0] * 100"
   ]
  },
  {
   "cell_type": "code",
   "execution_count": null,
   "metadata": {},
   "outputs": [],
   "source": [
    "games['rating'] = games['rating'].fillna('out of rating')\n",
    "games['genre'] = games['genre'].fillna('no genre game')\n",
    "games['name'] = games['name'].fillna('no name game')\n"
   ]
  },
  {
   "cell_type": "markdown",
   "metadata": {},
   "source": [
    "<div class=\"alert alert-block alert-success\">\n",
    "<b>Комментарии ревьюера V2: </b>\n",
    "Согласна с твоим решением.\n",
    "</div>"
   ]
  },
  {
   "cell_type": "markdown",
   "metadata": {},
   "source": [
    "Посчитаем суммарные продажи во всех регионах и запишем их в отдельный столбец, проверим вывод."
   ]
  },
  {
   "cell_type": "code",
   "execution_count": null,
   "metadata": {},
   "outputs": [],
   "source": [
    "games['sales_total'] = games['na_sales'] + games['eu_sales'] + games['jp_sales'] + games['other_sales']"
   ]
  },
  {
   "cell_type": "code",
   "execution_count": null,
   "metadata": {},
   "outputs": [],
   "source": [
    "games.head()"
   ]
  },
  {
   "cell_type": "markdown",
   "metadata": {},
   "source": [
    "# 3. Исследовательский анализ данных<a name=\"3.\"></a>\n",
    "<font size=\"2\">([к содержанию](#0.0))</font>"
   ]
  },
  {
   "cell_type": "markdown",
   "metadata": {},
   "source": [
    "- Построим распределение по годам релиза"
   ]
  },
  {
   "cell_type": "code",
   "execution_count": null,
   "metadata": {},
   "outputs": [],
   "source": [
    "def create_bar(groupby_column, func, y='name'):\n",
    "    \n",
    "    to_plot = games.query('year_of_release != 2027').groupby(groupby_column)[y]\n",
    "    if func == 'count':\n",
    "        to_plot_calculated = to_plot.count()\n",
    "        figsize = (20,5)\n",
    "        plot = to_plot_calculated.plot(kind='bar', y=y, figsize=figsize, ec='white')\n",
    "    elif func == 'sum':\n",
    "        to_plot_calculated = to_plot.sum().sort_values()\n",
    "        figsize = (20,10)\n",
    "        plot = to_plot_calculated.plot(kind='barh', y=y, figsize=figsize, ec='white')"
   ]
  },
  {
   "cell_type": "code",
   "execution_count": null,
   "metadata": {},
   "outputs": [],
   "source": [
    "create_bar('year_of_release', 'count')\n",
    "plt.title('Распределение числа выпущенных игр по годам релиза', fontdict=fontd)\n",
    "plt.xlabel(\"Год релиза\", fontsize=14, fontweight=\"bold\")\n",
    "plt.ylabel(\"Число выпущенных игр\", fontsize=14, fontweight=\"bold\")"
   ]
  },
  {
   "cell_type": "markdown",
   "metadata": {},
   "source": [
    "<div class=\"alert alert-block alert-danger\">\n",
    "<b>Комментарии ревьюера V2: </b>\n",
    "\n",
    "<s>Здорово, что ты автоматизировал процесс построения графика. Нужно только поработать над оформлением. Визуализация должна быть понятна без контекста. Тебе стоит добавить описание (заголовок, оси), чтобы было явно видно какие данные и какую зависимость показывает. Данная проблема встречается и далее, поэтому не буду акцентировать внимание на каждом случае, но тебе предстоит подкорректировать каждый подобный график. </s> Отлично !\n",
    "</div>"
   ]
  },
  {
   "cell_type": "markdown",
   "metadata": {},
   "source": [
    "<div class=\"alert alert-info\"> <b>Комментарии студента:</b> Согласен. Обновил оформление и добавил описание :заголовок, оси.   </div>"
   ]
  },
  {
   "cell_type": "markdown",
   "metadata": {},
   "source": [
    "Видим, что максимум пришелся на 2008 и 2009 года."
   ]
  },
  {
   "cell_type": "markdown",
   "metadata": {},
   "source": [
    "Построим количество выпущенных игр по платформам."
   ]
  },
  {
   "cell_type": "code",
   "execution_count": null,
   "metadata": {},
   "outputs": [],
   "source": [
    "create_bar('platform', 'sum', 'sales_total')\n",
    "plt.title('Распределение числа выпущенных игр по платформам', fontdict=fontd)\n",
    "plt.xlabel(\"Число выпущенных игр\", fontsize=14, fontweight=\"bold\")\n",
    "plt.ylabel(\"Название платформы\", fontsize=14, fontweight=\"bold\")"
   ]
  },
  {
   "cell_type": "markdown",
   "metadata": {},
   "source": [
    "- 1-е место -  платформа PS2. \n",
    "Посмотрим, как менялись продажи по платформам."
   ]
  },
  {
   "cell_type": "code",
   "execution_count": null,
   "metadata": {},
   "outputs": [],
   "source": [
    "!pip install mplcursors\n",
    "import mplcursors"
   ]
  },
  {
   "cell_type": "code",
   "execution_count": null,
   "metadata": {},
   "outputs": [],
   "source": [
    "def create_lines(platforms=None, query=None):\n",
    "    %matplotlib inline\n",
    "     \n",
    "    \n",
    "    axis = plt.gca()\n",
    "    legend_list = []\n",
    "    if query == None:\n",
    "        if platforms == None:\n",
    "            bbox_y = 0.98\n",
    "            legend_size = 9\n",
    "            platforms = games.query('year_of_release != 2027')['platform'].unique().tolist()\n",
    "        else:\n",
    "            platforms = platforms\n",
    "            bbox_y = 0.87\n",
    "            legend_size = 11\n",
    "    else:\n",
    "        platforms = games.query('year_of_release != 2027').query(query)['platform'].unique().tolist()\n",
    "        bbox_y = 0.87\n",
    "        legend_size = 11\n",
    "        \n",
    "    for platform in platforms:\n",
    "        if query == None:\n",
    "            df_to_plot = games.query('year_of_release != 2027').query('platform == @platform')\n",
    "        else:\n",
    "            df_to_plot = games.query('year_of_release != 2027').query('platform == @platform').query(query)\n",
    "        lines = df_to_plot.groupby('year_of_release')['sales_total'].sum().plot(x='year_of_release', y='sales_total',\n",
    "                                                                    style='.-', kind='line', fontsize=10,\n",
    "                                                                    linewidth=1, label=platform, ax=axis, figsize=(20,10))\n",
    "        legend_list.append(platform)\n",
    "    \n",
    "    axis.set_xlabel('')\n",
    "   \n",
    "    axis.legend(legend_list, prop={'size':legend_size}, bbox_to_anchor=(1.0, bbox_y))\n",
    "\n",
    "    mplcursors.cursor(hover=True).connect(\"add\", lambda sel: sel.annotation.set_text(sel.artist.get_label()))"
   ]
  },
  {
   "cell_type": "code",
   "execution_count": null,
   "metadata": {},
   "outputs": [],
   "source": [
    "create_lines(query='year_of_release != 2027')\n",
    "plt.title('Динамика продаж игр по платформам', fontdict=fontd)\n",
    "plt.xlabel(\"Год релиза\", fontsize=14, fontweight=\"bold\")\n",
    "plt.ylabel(\"Число выпущенных игр\", fontsize=14, fontweight=\"bold\")"
   ]
  },
  {
   "cell_type": "code",
   "execution_count": null,
   "metadata": {},
   "outputs": [],
   "source": [
    "games.groupby('platform')['sales_total'].sum().to_frame('sales_total')\\\n",
    ".sort_values(by='sales_total', ascending=False).head(10)"
   ]
  },
  {
   "cell_type": "markdown",
   "metadata": {},
   "source": [
    "Выберем топ-6 платформ построим для них аналогичный график"
   ]
  },
  {
   "cell_type": "code",
   "execution_count": null,
   "metadata": {},
   "outputs": [],
   "source": [
    "top_platforms = ['PS2', 'X360', 'PS3', 'Wii', 'DS', 'PS']"
   ]
  },
  {
   "cell_type": "code",
   "execution_count": null,
   "metadata": {},
   "outputs": [],
   "source": [
    "create_lines(platforms=top_platforms)\n",
    "plt.title('Динамика продаж игр по топ-6 платформам', fontdict=fontd)\n",
    "plt.xlabel(\"Год релиза\", fontsize=14, fontweight=\"bold\")\n",
    "plt.ylabel(\"Число выпущенных игр\", fontsize=14, fontweight=\"bold\")"
   ]
  },
  {
   "cell_type": "markdown",
   "metadata": {},
   "source": [
    "Средняя жизнь консоли - около 10 лет.\n",
    "Заметим, что  у популярных в прошлом платформ PS, PS2, DS  сейчас продажи на нуле.\n",
    "Выбираем актуальный, за который оценим данные, на основании выводов по которым будем строить предсказание на 2017 год.\n",
    "Не берем 2016-й,чтобы исключить значимое искажение распределения по платформам в 2016 году.\n",
    "Актуальный период выберем с 2013 по 2015 год, тут рынок выровнялся.\n",
    "Построим  график для ответа на вопрос:\n",
    "Какие платформы лидируют по продажам, растут или падают?\n",
    "Выберем потенциально прибыльные платформы."
   ]
  },
  {
   "cell_type": "markdown",
   "metadata": {},
   "source": [
    "<div class=\"alert alert-block alert-danger\">\n",
    "<b>Комментарии ревьюера V2: </b>\n",
    "\n",
    " <s>Здесь стоит немного подкорректировать актуальный период. Ты выбрал довольно большой срок. Мы видим, что с 1980 по 1990 игр выпускалось совсем мало, а затем начался стремительный рост вплоть до 2008-2009 годов. Далее мы наблюдаем, что интерес к играм начал угасать. Незначительный скачок произошел в 2014 году. С 2005 по 2016 ситуация на рынке была довольно нестабильной. Нам важно сделать прогноз на 2017, поэтому нас интересуют только те платформы, которые живы на момент 2013 года, когда закончилось общее снижение рынка и ситуация стабилизировалась.  Выбери период, когда рынок уже выровнялся после общего падения, его можем назвать актуальным. Также стоит убрать из рассмотрения 2027 год (это не реальные данные, а заполнение пропусков маркером).\n",
    "    \n",
    "Обнови, пожалуйста, при необходимости, свои расчеты и выводы ниже.  </s>\n",
    "    \n",
    "Согласна с тобой! Можно оставить 2016 год. И рассматривать 2013- 2016. Обычно прогноз на будущий год делают в октябре-ноябре текущего года и мы всегда располагаем неполными данными за текущий год. Поэтому есть смысл их оставить, они самые свежие. \n",
    "</div>"
   ]
  },
  {
   "cell_type": "markdown",
   "metadata": {},
   "source": [
    "<div class=\"alert alert-info\"> <b>Комментарии студента:</b> Период изменил</div>"
   ]
  },
  {
   "cell_type": "code",
   "execution_count": null,
   "metadata": {},
   "outputs": [],
   "source": [
    "create_lines(query='year_of_release >= 2013  & year_of_release <= 2015')\n",
    "plt.title('Динамика продаж игр за период 2013 - 2015 годы', fontdict=fontd)\n",
    "plt.xlabel(\"Год релиза\", fontsize=14, fontweight=\"bold\")\n",
    "plt.ylabel(\"Число выпущенных игр\", fontsize=14, fontweight=\"bold\")"
   ]
  },
  {
   "cell_type": "markdown",
   "metadata": {},
   "source": []
  },
  {
   "cell_type": "code",
   "execution_count": null,
   "metadata": {},
   "outputs": [],
   "source": [
    "games.query('year_of_release >= 2013  & year_of_release <= 2015').groupby('platform')['sales_total'].sum().to_frame('sales_total')\\\n",
    ".sort_values(by='sales_total', ascending=False).head(6)"
   ]
  },
  {
   "cell_type": "markdown",
   "metadata": {},
   "source": [
    "Три победителя - PS4;PS3;X360.\n",
    "Видим, что топ платформ отличаются от первоначального за все года.\n",
    "С 2013 по 2015 год видим рост у PS4 и XOne, в то время как остальные компании падают либо не показывают рост. Данные за 2016 год могут быть неполными, для интереса посмотрим на все топ 6:  'PS4', 'PS3', 'X360', '3DS','XOne' , 'WiiU'."
   ]
  },
  {
   "cell_type": "markdown",
   "metadata": {},
   "source": [
    "Далее используем только выбранный период и платформы."
   ]
  },
  {
   "cell_type": "code",
   "execution_count": null,
   "metadata": {},
   "outputs": [],
   "source": [
    "top_platforms = ['PS4', 'PS3', 'X360', '3DS','XOne' , 'WiiU']"
   ]
  },
  {
   "cell_type": "code",
   "execution_count": null,
   "metadata": {},
   "outputs": [],
   "source": [
    "games = games.query('year_of_release >= 2013  & year_of_release <= 2015')"
   ]
  },
  {
   "cell_type": "markdown",
   "metadata": {},
   "source": [
    "Постройте график «ящик с усами» по глобальным продажам каждой игры и разбивкой по платформам. Велика ли разница в продажах? А в средних продажах на разных платформах? Опишите результат."
   ]
  },
  {
   "cell_type": "markdown",
   "metadata": {},
   "source": [
    "Напишем для этого функцию для отрисовки"
   ]
  },
  {
   "cell_type": "code",
   "execution_count": null,
   "metadata": {},
   "outputs": [],
   "source": [
    "def create_boxplot(title=None, query_condition = None, ylims=None):\n",
    "    %matplotlib inline\n",
    "    if query_condition == None:\n",
    "        ax = games.boxplot(x='продажи', column='sales_total', fontsize=25, figsize=(25,10),\n",
    "                                         boxprops=dict(linestyle='-', linewidth=5),\n",
    "                                         medianprops=dict(linestyle='-', linewidth=5),\n",
    "                                         whiskerprops=dict(linestyle='-', linewidth=5),\n",
    "                                         capprops=dict(linestyle='-', linewidth=5), \n",
    "                                         notch=True)\n",
    "    else:\n",
    "        df_query = games.query(query_condition)\n",
    "        by_column = query_condition.split()[0]\n",
    "        ax = df_query.boxplot(column='sales_total', by=by_column, fontsize=25, figsize=(25,10),\n",
    "                                         boxprops=dict(linestyle='-', linewidth=5),\n",
    "                                         medianprops=dict(linestyle='-', linewidth=5),\n",
    "                                         whiskerprops=dict(linestyle='-', linewidth=5),\n",
    "                                         capprops=dict(linestyle='-', linewidth=5),\n",
    "                                         notch=True)\n",
    "        ax.set_xlabel('')\n",
    "        ax.set_title('')\n",
    "    if ylims != None:\n",
    "        ax.set_ylim(ylims)\n",
    "    if title != None:\n",
    "        plt.suptitle(title, y=0.94, fontsize=25, fontweight='bold')\n"
   ]
  },
  {
   "cell_type": "markdown",
   "metadata": {},
   "source": [
    "<div class=\"alert alert-block alert-success\">\n",
    "<b>Комментарии ревьюера V3: </b>\n",
    "\n",
    "Отличная автоматизация!\n",
    "</div>"
   ]
  },
  {
   "cell_type": "code",
   "execution_count": null,
   "metadata": {},
   "outputs": [],
   "source": [
    "create_boxplot(title='Ящик с усами по глобальным продажам игр', ylims=[0,2])"
   ]
  },
  {
   "cell_type": "markdown",
   "metadata": {},
   "source": [
    "Средние продажи игр составляют - чуть больше 1 млн долларов, а медиана - около 0,2 миллиона."
   ]
  },
  {
   "cell_type": "code",
   "execution_count": null,
   "metadata": {},
   "outputs": [],
   "source": [
    "create_boxplot('Boxplot продаж по топовым платформам', query_condition=\"platform in @top_platforms\", ylims=[0,3])"
   ]
  },
  {
   "cell_type": "markdown",
   "metadata": {},
   "source": [
    "<div class=\"alert alert-block alert-success\">\n",
    "<b>Комментарии ревьюера V3: </b>\n",
    "\n",
    "Топовые по продажам игры бывают на разных платформах, но всё же больше всего на PS4. \n",
    "</div>"
   ]
  },
  {
   "cell_type": "markdown",
   "metadata": {},
   "source": [
    "Посмотрим, как влияют отзывы пользователей и критиков на продажи и построим диаграмму рассеяния."
   ]
  },
  {
   "cell_type": "code",
   "execution_count": null,
   "metadata": {},
   "outputs": [],
   "source": [
    "from matplotlib.axes._axes import _log as matplotlib_axes_logger\n",
    "matplotlib_axes_logger.setLevel('ERROR')\n",
    "\n",
    "games_ps4 = games[(games['platform'] == 'PS4') & (games['critic_score'] > 0)].copy()\n",
    "games_ps4.plot(kind='scatter', x='critic_score', y='sales_total', ec='black', figsize=(9,6))"
   ]
  },
  {
   "cell_type": "code",
   "execution_count": null,
   "metadata": {},
   "outputs": [],
   "source": [
    "games_ps4 = games[(games['platform'] == 'PS4') & (games['user_score'] > 0)].copy()\n",
    "games_ps4.plot(kind='scatter', x='user_score', y='sales_total', ec='black', figsize=(9,6))"
   ]
  },
  {
   "cell_type": "markdown",
   "metadata": {},
   "source": [
    "\n",
    "При увеличении среднего рейтинга критиков средний уровень выручки с продажи игр увеличивается.\n",
    "Далее от отзывов пользователей, видим в целом похожую картину."
   ]
  },
  {
   "cell_type": "markdown",
   "metadata": {},
   "source": [
    "Матрица корреляции:"
   ]
  },
  {
   "cell_type": "code",
   "execution_count": null,
   "metadata": {},
   "outputs": [],
   "source": [
    "plt.figure(figsize=(9,9))\n",
    "sns.heatmap(games_ps4.corr(), annot=True, fmt='.2f', annot_kws={'size':15})"
   ]
  },
  {
   "cell_type": "code",
   "execution_count": null,
   "metadata": {},
   "outputs": [],
   "source": [
    "games_ps4_filtered = games_ps4[['sales_total' ,'critic_score', 'user_score']]\n",
    "plt.figure(figsize=(1,4))\n",
    "sns.heatmap(games_ps4_filtered.corr()[['sales_total']].sort_values(by='sales_total', ascending=False), cmap=\"Greens\", \n",
    "            annot=True, annot_kws={'size':15})"
   ]
  },
  {
   "cell_type": "markdown",
   "metadata": {},
   "source": [
    "Данные по корреляции по топовым платформам:"
   ]
  },
  {
   "cell_type": "code",
   "execution_count": null,
   "metadata": {},
   "outputs": [],
   "source": [
    "rows = len(top_platforms) // 2\n",
    "cols = 2\n",
    "fig, axes = plt.subplots(rows, cols, figsize=(16,8.5))\n",
    "count = 0\n",
    "for r in range(rows):\n",
    "    for c in range(cols):\n",
    "        curr_platform = top_platforms[count]\n",
    "        df_prep = games[(games['platform'] == curr_platform) & (games['user_score'] > 0)].copy()\n",
    "        \n",
    "        df_filtered = df_prep[['sales_total' ,'critic_score', 'user_score']]\n",
    "        sns.set(font_scale=1.0)\n",
    "        ax = sns.heatmap(df_filtered.corr()[['sales_total']].sort_values(by='sales_total', ascending=False), \n",
    "                         cmap=\"Greens\", annot=True, annot_kws={'size':15}, ax=axes[r,c])\n",
    "        ax.set_title(curr_platform, fontsize=20)\n",
    "        ax.set_yticklabels(ax.get_yticklabels(), rotation=0)\n",
    "        plt.tight_layout(pad=3)\n",
    "        count += 1"
   ]
  },
  {
   "cell_type": "markdown",
   "metadata": {},
   "source": [
    "Данные по корреляции между выручкой и оценкой критиков у PS4, 3DS, XOne, WiiU близки между собой, у PS3 и X360 - пониже.\n",
    "Данные по корреляции между выручкой и оценкой пользователей близки к нулю у платформ PS4, PS3, X360, XOne и приблизительно на порядок выше у платформ 3DS, WiiU.\n"
   ]
  },
  {
   "cell_type": "markdown",
   "metadata": {},
   "source": [
    "<div class=\"alert alert-block alert-success\">\n",
    "<b>Комментарии ревьюера V3: </b>\n",
    "\n",
    "Верно. Возможно у платформ 3DS, WiiU своя лояльная аудитория. Вообще здесь мы можем наблюдать какую-то корреляцию, но это пока ничего не говорит о какой-то зависимоти. Мы не знаем, когда были собраны эти данные - до продаж или после. \n",
    "</div>"
   ]
  },
  {
   "cell_type": "markdown",
   "metadata": {},
   "source": [
    "Распределение игр по жанрам. Для этого нарисуем столбчатую диаграмму с количеством и общей суммой продаж и расскажем о самых прибыльных жанрах, а потом посмотрим на особенности жанров с высокими и низкими продажами."
   ]
  },
  {
   "cell_type": "code",
   "execution_count": null,
   "metadata": {},
   "outputs": [],
   "source": [
    "ax = plt.gca()\n",
    "\n",
    "pivot = games.groupby('genre').agg({'name': 'count', 'sales_total': 'sum'}).sort_values(by='name', ascending=False)\n",
    "\n",
    "plot1 = pivot['name']\n",
    "plot1.plot(kind='bar', figsize=(15,5), ec='black', ax=ax, width=0.2, position=1)\n",
    "\n",
    "plot2 = pivot['sales_total']\n",
    "plot2.plot(kind='bar', figsize=(15,5), ec='black', ax=ax, width=0.2, color='#97F0AA', position=0)\n",
    "\n",
    "ax.legend(['Количество продаж', 'Общая сумма продаж'])"
   ]
  },
  {
   "cell_type": "markdown",
   "metadata": {},
   "source": [
    "Больше всего игр жанра Action, потом идут игры спортивного жанра.\n",
    "\n",
    "Количество проданных копий:\n",
    "Action\n",
    "Спортивный жанр\n",
    "Игры \"смешанного\" жанра - Miscellaneous\n",
    "...аутсайдеры - игры, которые требуют усидчивости:\n",
    "\n",
    "Сумма выручки:\n",
    "Action\n",
    "Спортивный жанр\n",
    "Шутеры\n",
    "...аутсайдеры почти те же герои:"
   ]
  },
  {
   "cell_type": "markdown",
   "metadata": {},
   "source": [
    "<div class=\"alert alert-block alert-success\">\n",
    "<b>Комментарии ревьюера V2: </b>\n",
    "\n",
    "Видно, что Action игр выпускают много, но в среднем каждая игра продаётся средненько. А вот Shooter продаются относительно неплохо. Так же хорошие продажи на игру у жанра Sports, Fighting, Role-Playing. Антилидеры по продажам: Adventure и Strategy, Puzzle.\n",
    "    \n",
    "Здесь еще можно сделать сводную табличку genre_stat = games.pivot_table(index='genre', values='total_sales', aggfunc=['count', 'mean', 'sum']). \n",
    "</div>"
   ]
  },
  {
   "cell_type": "code",
   "execution_count": null,
   "metadata": {},
   "outputs": [],
   "source": [
    "genre_stat = games.pivot_table(index='genre', values='sales_total', aggfunc=['count', 'mean', 'sum'])\n",
    "genre_stat"
   ]
  },
  {
   "cell_type": "markdown",
   "metadata": {},
   "source": [
    "<div class=\"alert alert-block alert-success\">\n",
    "<b>Комментарии ревьюера V3: </b>\n",
    "Отлично. теперь все наглядно и в цифрах. \n",
    "</div>"
   ]
  },
  {
   "cell_type": "markdown",
   "metadata": {},
   "source": [
    "# 4. Портрет пользователя регионов NA, EU, JP<a name=\"4.\"></a>\n",
    "<font size=\"2\">([к содержанию](#0.0))</font>\n",
    "Задаем функцию прорисовки и определяем самые популярные платформы в заданных регионах:"
   ]
  },
  {
   "cell_type": "code",
   "execution_count": null,
   "metadata": {},
   "outputs": [],
   "source": [
    "def top_in_regions_plot(groupby, region_sales, ax):\n",
    "    pivot = games.groupby(groupby).agg({region_sales: 'sum'}).sort_values(by=region_sales, ascending=False)[:5]\n",
    "    title_dict = {'na_sales': 'North America Sales', 'eu_sales': 'Europe Sales', 'jp_sales': 'Japan Sales'}\n",
    "    color_dict = {'na_sales': None, 'eu_sales': 'gray', 'jp_sales': 'forestgreen'}\n",
    "    plot = pivot.plot(kind='bar', ec='black', title=title_dict[region_sales], ax=axes[ax], \n",
    "                   fontsize=18, color=color_dict[region_sales], rot=20)\n",
    "    plot.legend(prop={'size':17})\n",
    "    plot.set_xlabel('')\n",
    "    plot.title.set_size(20)"
   ]
  },
  {
   "cell_type": "code",
   "execution_count": null,
   "metadata": {},
   "outputs": [],
   "source": [
    "fig, axes = plt.subplots(1, 3, figsize=(25,6))\n",
    "\n",
    "top_in_regions_plot('platform', 'na_sales', 0)\n",
    "top_in_regions_plot('platform', 'eu_sales', 1)\n",
    "top_in_regions_plot('platform', 'jp_sales', 2)"
   ]
  },
  {
   "cell_type": "markdown",
   "metadata": {},
   "source": [
    "Определение самых популярных жанров в заданных регионах:"
   ]
  },
  {
   "cell_type": "code",
   "execution_count": null,
   "metadata": {},
   "outputs": [],
   "source": [
    "fig, axes = plt.subplots(1, 3, figsize=(24,5))\n",
    "\n",
    "top_in_regions_plot('genre', 'na_sales', 0)\n",
    "top_in_regions_plot('genre', 'eu_sales', 1)\n",
    "top_in_regions_plot('genre', 'jp_sales', 2)"
   ]
  },
  {
   "cell_type": "markdown",
   "metadata": {},
   "source": [
    "Влияние рейтинга ESRB на продажи в отдельном регионе."
   ]
  },
  {
   "cell_type": "code",
   "execution_count": null,
   "metadata": {},
   "outputs": [],
   "source": [
    "ESRB_dict = {'E': 'Для всех', 'M': '> 17 лет', 'T': '13-19 лет', 'E10+': '>10 лет', 'K-A': 'Для всех(устар.)'}\n",
    "games['ESRB_description'] = games[games['rating'].notnull()]['rating'].map(ESRB_dict)\n",
    "fig, axes = plt.subplots(1, 3, figsize=(25,6))\n",
    "\n",
    "top_in_regions_plot('ESRB_description', 'na_sales', 0)\n",
    "top_in_regions_plot('ESRB_description', 'eu_sales', 1)\n",
    "top_in_regions_plot('ESRB_description', 'jp_sales', 2)"
   ]
  },
  {
   "cell_type": "markdown",
   "metadata": {},
   "source": [
    "В Северной Америке и в Европе картина похожая. \n",
    "В Японии иначе. Первое место - игры для лиц от 13 до 19 лет, а  на втором - \"Для всех\" -  этому есть объяснение: мы помним, что в Японии мы заполнили много пропусков в рейтинге - out of rating. Скорее всего, это местные игры, которые не проходят сертификации по стандарту ESRB."
   ]
  },
  {
   "cell_type": "markdown",
   "metadata": {},
   "source": [
    "<div class=\"alert alert-block alert-danger\">\n",
    "<b>Комментарии ревьюера V2: </b>\n",
    "\n",
    "<s>Здесь есть небольшая неточность. В Японии много игр с рейтингом out of rating (пропуски, которые мы заполнили). Возможно, это местные игры, которые не проходят сертификации по стандарту ESRB. Стоит это отметить в отчете.  </s>\n",
    "</div>"
   ]
  },
  {
   "cell_type": "markdown",
   "metadata": {},
   "source": [
    "# 5. Исследование статистических показателей<a name=\"5.\"></a>\n",
    "<font size=\"2\">([к содержанию](#0.0))</font>"
   ]
  },
  {
   "cell_type": "markdown",
   "metadata": {},
   "source": [
    "Увидим, как изменяется пользовательский рейтинг и рейтинг критиков в различных жанрах.\n",
    "Для этого создадим две сводные талицы по жанрам и рейтингам за выбранный период."
   ]
  },
  {
   "cell_type": "code",
   "execution_count": null,
   "metadata": {},
   "outputs": [],
   "source": [
    "games = games.query('critic_score>-1 & user_score>-1')"
   ]
  },
  {
   "cell_type": "code",
   "execution_count": null,
   "metadata": {},
   "outputs": [],
   "source": [
    "critic_genre = games.pivot_table(index='genre', values='critic_score', aggfunc='mean').fillna(0).applymap(float).sort_values(by='critic_score', ascending=False)\n",
    "user_genre = games.pivot_table(index='genre', values='user_score', aggfunc='mean').fillna(0).applymap(float).sort_values(by='user_score', ascending=False)\n",
    "fig, ax = plt.subplots(1 ,2, figsize=(15,5))\n",
    "plt.figure(figsize=(10,5))\n",
    "sns.heatmap(critic_genre, annot=True, fmt='.1f', linewidths=.6, ax=ax[0])\n",
    "sns.heatmap(user_genre, annot=True, fmt='.1f', linewidths=.6, ax=ax[1])"
   ]
  },
  {
   "cell_type": "markdown",
   "metadata": {},
   "source": [
    "На основе средних оценок по жанрам можно заключить:\n",
    "Наивысшие оценки критиков получают: Puzzle, Platform, Misc.\n",
    "Наивысшие оценки пользователей получают: Adventure, Puzzle, Role-Playing.\n",
    "Оценка жанра Puzzle близка у пользователей и критиков, но в целом вкусы критиков и пользователей немного отличаются."
   ]
  },
  {
   "cell_type": "markdown",
   "metadata": {},
   "source": [
    "Посчитаем дисперсию, стандартное отклонение, среднее и медиану у разных жанров к оценкам пользователей."
   ]
  },
  {
   "cell_type": "code",
   "execution_count": null,
   "metadata": {},
   "outputs": [],
   "source": [
    "game_genres = games['genre'].unique()\n",
    "game_genres = game_genres[:-1]\n",
    "for genre in game_genres:\n",
    "    print('Дисперсия', genre.upper(),':', np.var(games[games['genre']==genre]['user_score']))\n",
    "    print('Стандартное отклонение', genre.upper(),':', np.std(games[games['genre']==genre]['user_score']))\n",
    "    print('Среднее',genre.upper(),':',  games[games['genre']==genre]['user_score'].mean())\n",
    "    print('Медиана',genre.upper(),':',  games[games['genre']==genre]['user_score'].median())\n",
    "    print('\\n')"
   ]
  },
  {
   "cell_type": "markdown",
   "metadata": {},
   "source": [
    "Посчитаем дисперсию, стандартное отклонение, среднее и медиану у разных жанров к оценкам критиков."
   ]
  },
  {
   "cell_type": "code",
   "execution_count": null,
   "metadata": {},
   "outputs": [],
   "source": [
    "for genre in game_genres:\n",
    "    print('Дисперсия', genre.upper(),':', np.var(games[games['genre']==genre]['critic_score']))\n",
    "    print('Стандартное отклонение', genre.upper(),':', np.std(games[games['genre']==genre]['critic_score']))\n",
    "    print('Среднее',genre.upper(),':',  games[games['genre']==genre]['critic_score'].mean())\n",
    "    print('Медиана',genre.upper(),':',  games[games['genre']==genre]['critic_score'].median())\n",
    "    print('\\n')"
   ]
  },
  {
   "cell_type": "markdown",
   "metadata": {},
   "source": [
    "Построим на распределения оценок пользователей и критиков по жанрам игр. Для этого напишем функцию для отрисовки гистограм."
   ]
  },
  {
   "cell_type": "code",
   "execution_count": null,
   "metadata": {},
   "outputs": [],
   "source": [
    "def genre_hist(genre):\n",
    "    fig, axes = plt.subplots(figsize = (15,10))\n",
    "    data = games[games['genre'] == genre]\n",
    "    user_score = data['user_score'] * 10\n",
    "    critic_score = data['critic_score']\n",
    "    colors = ['black', 'r']\n",
    "\n",
    "    plt.hist([user_score, critic_score], color = colors, alpha=.9, label = ['user_score', 'critic_score'])\n",
    "    plt.legend()\n",
    "    plt.title(genre)"
   ]
  },
  {
   "cell_type": "code",
   "execution_count": null,
   "metadata": {
    "scrolled": false
   },
   "outputs": [],
   "source": [
    "for genre in game_genres:\n",
    "    genre_hist(genre)\n",
    "    plt.xlabel(\"Оценка\", fontsize=10, fontweight=\"bold\")\n",
    "    plt.ylabel(\"Число оценок\", fontsize=10, fontweight=\"bold\")"
   ]
  },
  {
   "cell_type": "markdown",
   "metadata": {},
   "source": [
    "Далее построим общие распределения оценок пользователей и критиков, еще нам нужно домножить оценки пользователей на 10, чтобы мы смогли сравнить распределения."
   ]
  },
  {
   "cell_type": "code",
   "execution_count": null,
   "metadata": {},
   "outputs": [],
   "source": [
    "user_score = games['user_score'] * 10\n",
    "critic_score = games['critic_score']\n",
    "colors = ['black', 'r']\n",
    "\n",
    "plt.hist([user_score, critic_score], color = colors, alpha=.9, label = ['user_score', 'critic_score'])\n",
    "plt.legend()\n",
    "plt.xlabel(\"Оценка\", fontsize=14, fontweight=\"bold\")\n",
    "plt.ylabel(\"Число оценок\", fontsize=14, fontweight=\"bold\")"
   ]
  },
  {
   "cell_type": "markdown",
   "metadata": {},
   "source": [
    "Распределения оценок пользователей и критиков практически симметричны и оба смещены влево. Это означает, что в нашем датасете куда меньше игр с высокими оценками критиков и пользователей."
   ]
  },
  {
   "cell_type": "markdown",
   "metadata": {},
   "source": [
    " # 6. Проверка гипотез<a name=\"6.\"></a>\n",
    "<font size=\"2\">([к содержанию](#0.0))</font>\n",
    " \n",
    " Гипотеза № 1:\n",
    "средние пользовательские рейтинги платформ Xbox One и PC одинаковые.\n",
    "Н0 (нулевая гипотеза) - средние пользовательские рейтинги платформ Xbox One и PC одинаковые.\n",
    "Н1 (альтернативная гипотеза) - средние пользовательские рейтинги платформ Xbox One и PC отличаются между собой."
   ]
  },
  {
   "cell_type": "markdown",
   "metadata": {},
   "source": [
    "Для проверки обеих гипотез будем использовать <b>t-критерий Стьюдента</b>, т.к. в обоих случаях выборки независимы между собой.<br/>\n",
    "Определим пороговое значение alpha = 0.05"
   ]
  },
  {
   "cell_type": "markdown",
   "metadata": {},
   "source": [
    "<div class=\"alert alert-block alert-success\">\n",
    "<b>Комментарии ревьюера V2: </b>\n",
    "\n",
    "Гипотезы сформулированы верно. \n",
    "</div>"
   ]
  },
  {
   "cell_type": "code",
   "execution_count": null,
   "metadata": {},
   "outputs": [],
   "source": [
    "xbox_one_ratings = games[(games['platform'] == 'XOne') & (games['user_score'] > 0)]['user_score']\n",
    "pc_ratings = games[(games['platform'] == 'PC') & (games['user_score'] > 0)]['user_score']\n",
    "stat, p = ttest_ind(xbox_one_ratings, pc_ratings)\n",
    "\n",
    "print('t = {}\\np-value = {:.10e}'.format(stat, p))\n",
    "print('\\nПороговое значение alpha = 0.05')"
   ]
  },
  {
   "cell_type": "markdown",
   "metadata": {},
   "source": [
    "Мы не можем отклонить нулевую гипотезу.\n",
    "Поэтому разумно предположить, что средние пользовательские рейтинги платформ Xbox One и PC одинаковые.\n"
   ]
  },
  {
   "cell_type": "markdown",
   "metadata": {},
   "source": [
    "<div class=\"alert alert-block alert-success\">\n",
    "<b>Комментарии ревьюера V3: </b>\n",
    "\n",
    "Теперь все верно. Здесь нам также нужно задать параметр equal_var=False. \n",
    "</div>"
   ]
  },
  {
   "cell_type": "code",
   "execution_count": null,
   "metadata": {},
   "outputs": [],
   "source": [
    "print('Средняя оценка пользователей игр для платформы Xbox One  - {:.2f}'.format(xbox_one_ratings.mean()))\n",
    "print('Средняя оценка пользователей игр для платформы PC - {:.2f}'.format(pc_ratings.mean()))\n"
   ]
  },
  {
   "cell_type": "markdown",
   "metadata": {},
   "source": [
    "Гипотеза № 2:\n",
    "средние пользовательские рейтинги жанров Action и Sports разные.\n",
    "Н0 (нулевая гипотеза) - средние пользовательские рейтинги жанров Action и Sports одинаковые.\n",
    "Н1 (альтернативная гипотеза) - средние пользовательские рейтинги жанров Action и Sports отличаются между собой. Используем equal_var = False, т.к. дисперсии генеральных совокупностей двух выборок могут быть неравными."
   ]
  },
  {
   "cell_type": "markdown",
   "metadata": {},
   "source": [
    "<div class=\"alert alert-block alert-success\">\n",
    "<b>Комментарии ревьюера V2: </b>\n",
    "\n",
    "Гипотезы сформулированы верно. \n",
    "</div>"
   ]
  },
  {
   "cell_type": "code",
   "execution_count": null,
   "metadata": {},
   "outputs": [],
   "source": [
    "action_ratings = games[(games['genre'] == 'Action') & (games['user_score'] > 0)]['user_score']\n",
    "pc_ratings = games[(games['genre'] == 'Sports') & (games['user_score'] > 0)]['user_score']\n",
    "stat, p = ttest_ind(action_ratings, pc_ratings, equal_var=False)\n",
    "\n",
    "print('t = {}\\np-value = {}'.format(stat, p))\n",
    "print('\\nПороговое значение alpha = 0.05')"
   ]
  },
  {
   "cell_type": "markdown",
   "metadata": {},
   "source": [
    "Отвергаем нулевую гипотезу.\n",
    "Остается верным утверждение, что средние пользовательские рейтинги у жанров Action и Sports отличаются между собой."
   ]
  },
  {
   "cell_type": "markdown",
   "metadata": {},
   "source": [
    "<div class=\"alert alert-block alert-danger\">\n",
    "<b>Комментарии ревьюера V2: </b>\n",
    "<s>Здесь стоит использовать параметр equal_var. Также когда скорректируешь выбор актуального периолда должно получиться так, что в первом случае мы не можем отвергнуть нулевую гипотезу, а во втором отвергаем. </s>\n",
    "    \n",
    "Теперь все корректно.     \n",
    "</div>"
   ]
  },
  {
   "cell_type": "markdown",
   "metadata": {},
   "source": [
    "# 7. Общий вывод<a name=\"7.\"></a>\n",
    "<font size=\"2\">([к содержанию](#0.0))</font>\n",
    "\n",
    "Самое большое влияние на конечную выручку оказывают оценки критиков.\n",
    "Средний бюджет на разработку одной игры в последние годы вырос. \n",
    "\n",
    "Крупные компании игровой индустрии в погоне за технологиями, малые компании - ищут свои альтернативные пути.\n",
    "Рынок последние годы падает и  будет продолжать падать дальше."
   ]
  },
  {
   "cell_type": "markdown",
   "metadata": {},
   "source": [
    "<div class=\"alert alert-block alert-success\">\n",
    "<b>Комментарии ревьюера: </b>\n",
    "\n",
    "<s>Итог ревью - ты проделал большую работу и по большей части - успешно!  В целом, мне понравилась структура исследования, твои выводы после каждого этапа, комментарии к своим действиям. Было легко и интересно проверять. Ты непросто грамотно применяешь все методы, но и обосновываешь каждое своё действие.\n",
    "    \n",
    "Для принятия проекта осталось поправить пару моментов:\n",
    "    \n",
    "    \n",
    "- оформить все визуализации (добавить название и подписи осей)\n",
    "- скорректировать выбор актуального периода и обновить все расчеты\n",
    "- исправить неточность в портрете пользователя (Япония, рейтинг)\n",
    "- поправить проверку гипотез.\n",
    "    \n",
    "    \n",
    "Я уверена, это не займет много времени. Буду ждать исправленный вариант!    </s>\n",
    "    \n",
    "Ты устранил почти все замечания. Осталась небольшая помарка - не везде есть подписи графиков, но не вижу причин отправлять на повторное ревью. Хочется отметить, что ты серьезно подошел к проекту и провел глубокий анализ. Молодец :) Проект принят. \n",
    "</div>\n",
    "    "
   ]
  },
  {
   "cell_type": "code",
   "execution_count": null,
   "metadata": {},
   "outputs": [],
   "source": []
  }
 ],
 "metadata": {
  "kernelspec": {
   "display_name": "Python 3",
   "language": "python",
   "name": "python3"
  },
  "language_info": {
   "codemirror_mode": {
    "name": "ipython",
    "version": 3
   },
   "file_extension": ".py",
   "mimetype": "text/x-python",
   "name": "python",
   "nbconvert_exporter": "python",
   "pygments_lexer": "ipython3",
   "version": "3.8.5"
  },
  "toc": {
   "base_numbering": 1,
   "nav_menu": {},
   "number_sections": true,
   "sideBar": true,
   "skip_h1_title": true,
   "title_cell": "Table of Contents",
   "title_sidebar": "Contents",
   "toc_cell": false,
   "toc_position": {},
   "toc_section_display": true,
   "toc_window_display": false
  }
 },
 "nbformat": 4,
 "nbformat_minor": 2
}
